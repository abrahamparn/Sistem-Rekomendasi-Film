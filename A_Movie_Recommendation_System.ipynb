{
  "nbformat": 4,
  "nbformat_minor": 0,
  "metadata": {
    "colab": {
      "name": "A Movie Recommendation System.ipynb",
      "provenance": []
    },
    "kernelspec": {
      "name": "python3",
      "display_name": "Python 3"
    },
    "language_info": {
      "name": "python"
    },
    "accelerator": "GPU"
  },
  "cells": [
    {
      "cell_type": "markdown",
      "metadata": {
        "id": "oZ46uY440LRN"
      },
      "source": [
        "# Just Another Movie Recommendation System\n",
        "\n",
        "\n",
        "---\n",
        "Oleh: [Abraham Naiborhu](https://www.dicoding.com/users/abrahampn)\n",
        "\n",
        "*Proyek Final - Dicoding Machine Learning Terapan*\n",
        "\n",
        "## Pendahuluan\n",
        "Proyek ini membahas topik rekomendasi sistem, terkhususnya untuk merekomendasikan film kepada users. Dataset ini diambil dari kaggle:  https://www.kaggle.com/aigamer/movie-lens-dataset\n",
        "\n",
        "Sistem rekomendasi yang digunakan disini adalah content dan collaborative based filtering\n",
        "* Pada Content Based Filter, kita akan menggunakan genre sebagai pusat dari sistem rekomendasi\n",
        "\n",
        "* Pada Collaborative Based Filter, kita akan menggunakan rating dari pengguna\n",
        "\n",
        "\n",
        "\n"
      ]
    },
    {
      "cell_type": "markdown",
      "metadata": {
        "id": "9X5v8ym5i-jx"
      },
      "source": [
        "## Data and Libraries Preparation"
      ]
    },
    {
      "cell_type": "markdown",
      "metadata": {
        "id": "TH1b8Btf1Ac_"
      },
      "source": [
        "Saat menggunakan Opendatasets, diharapkan pengguna menyiapkan kaggle (karena dataset dari kaggle) username dan kaggle key"
      ]
    },
    {
      "cell_type": "code",
      "metadata": {
        "colab": {
          "base_uri": "https://localhost:8080/"
        },
        "id": "jQM_X_MVWyg8",
        "outputId": "2c8daaf3-7f28-49aa-c6a8-0249d44dff41"
      },
      "source": [
        "!pip install opendatasets\n",
        "\n",
        "import opendatasets as od\n",
        "import numpy as np\n",
        "import pandas as pd\n",
        "import matplotlib.pyplot as plt\n",
        "import seaborn as sns\n",
        "%matplotlib inline"
      ],
      "execution_count": 1,
      "outputs": [
        {
          "output_type": "stream",
          "name": "stdout",
          "text": [
            "Requirement already satisfied: opendatasets in /usr/local/lib/python3.7/dist-packages (0.1.20)\n",
            "Requirement already satisfied: kaggle in /usr/local/lib/python3.7/dist-packages (from opendatasets) (1.5.12)\n",
            "Requirement already satisfied: tqdm in /usr/local/lib/python3.7/dist-packages (from opendatasets) (4.62.3)\n",
            "Requirement already satisfied: click in /usr/local/lib/python3.7/dist-packages (from opendatasets) (7.1.2)\n",
            "Requirement already satisfied: python-dateutil in /usr/local/lib/python3.7/dist-packages (from kaggle->opendatasets) (2.8.2)\n",
            "Requirement already satisfied: six>=1.10 in /usr/local/lib/python3.7/dist-packages (from kaggle->opendatasets) (1.15.0)\n",
            "Requirement already satisfied: certifi in /usr/local/lib/python3.7/dist-packages (from kaggle->opendatasets) (2021.10.8)\n",
            "Requirement already satisfied: urllib3 in /usr/local/lib/python3.7/dist-packages (from kaggle->opendatasets) (1.24.3)\n",
            "Requirement already satisfied: requests in /usr/local/lib/python3.7/dist-packages (from kaggle->opendatasets) (2.23.0)\n",
            "Requirement already satisfied: python-slugify in /usr/local/lib/python3.7/dist-packages (from kaggle->opendatasets) (5.0.2)\n",
            "Requirement already satisfied: text-unidecode>=1.3 in /usr/local/lib/python3.7/dist-packages (from python-slugify->kaggle->opendatasets) (1.3)\n",
            "Requirement already satisfied: idna<3,>=2.5 in /usr/local/lib/python3.7/dist-packages (from requests->kaggle->opendatasets) (2.10)\n",
            "Requirement already satisfied: chardet<4,>=3.0.2 in /usr/local/lib/python3.7/dist-packages (from requests->kaggle->opendatasets) (3.0.4)\n"
          ]
        }
      ]
    },
    {
      "cell_type": "markdown",
      "metadata": {
        "id": "3NLaBRQFcLYa"
      },
      "source": [
        "Setelah importing libraries, waktunya mempersiapkan dataset"
      ]
    },
    {
      "cell_type": "code",
      "metadata": {
        "colab": {
          "base_uri": "https://localhost:8080/"
        },
        "id": "l827HlVVXXiO",
        "outputId": "ffa07406-f2af-4856-b8d0-1fd4fe92a180"
      },
      "source": [
        "od.download(\"https://www.kaggle.com/aigamer/movie-lens-dataset\")\n",
        "df_movie = pd.read_csv(\"/content/movie-lens-dataset/movies.csv\")\n",
        "df_rating = pd.read_csv(\"/content/movie-lens-dataset/ratings.csv\")\n",
        "df_tags = pd.read_csv(\"/content/movie-lens-dataset/tags.csv\")\n",
        "df_links = pd.read_csv(\"/content/movie-lens-dataset/links.csv\")"
      ],
      "execution_count": 2,
      "outputs": [
        {
          "output_type": "stream",
          "name": "stdout",
          "text": [
            "Skipping, found downloaded files in \"./movie-lens-dataset\" (use force=True to force download)\n"
          ]
        }
      ]
    },
    {
      "cell_type": "markdown",
      "metadata": {
        "id": "7242LbcOXq7V"
      },
      "source": [
        "## Data Understanding\n",
        "Bagian ini akan menjelaskan mengenai karakteristik dari dataset yang didapatkan.\n",
        "\n",
        "\n",
        "Pada dataset ini, terdapat empat file csv yang kelak akan digunakan untuk pembuatan model. Ke empat file tersebut adalah: links.csv, ratings.csv, movies.csv, and tags.csv"
      ]
    },
    {
      "cell_type": "markdown",
      "metadata": {
        "id": "7AeXo5Ih1_UD"
      },
      "source": [
        "There are a total of 9742 Movie's in our dataset with 100836 Users Rating the movie and 3683 Tags.\n",
        "* userId: Unique Id provided for each User\n",
        "  * userId were selected at random for inclusion. Their ids have been anonymized. User ids are consistent between ratings.csv and tags.csv (i.e., the same id refers to the same user across the two files).\n",
        "\n",
        "* movieId: Unique Id provided for each Movie\n",
        "  * Only movies with at least one rating or tag are included in the dataset. These movie ids are consistent with those used on the MovieLens web site (e.g., id 1 corresponds to the URL Movie Lens. Movie ids are consistent between ratings.csv, tags.csv, movies.csv, and links.csv (i.e., the same id refers to the same movie across these four data files).\n",
        "\n",
        "* rating (rating.csv): Ratings are made on a 5-star scale, with half-star increments (0.5 stars - 5.0 stars).\n",
        "  * All Ratings are contained in the file ratings.csv. Each line of this file after the header row represents one rating of one movie by one user\n",
        "  * Mean show the average rating is 3.2-Star\n",
        "  \n",
        "* genres: Genres are a pipe-separated list, and are selected from the following:\n",
        "  * Action\n",
        "  * Adventure\n",
        "  * Animation\n",
        "  * Children's\n",
        "  * Comedy\n",
        "  * Crime\n",
        "  * Documentary\n",
        "  * Drama\n",
        "  * Fantasy\n",
        "  * Film-Noir\n",
        "  * Horror\n",
        "  * Musical\n",
        "  * Mystery\n",
        "  * Romance\n",
        "  * Sci-Fi\n",
        "  * Thriller\n",
        "  * War\n",
        "  * Western\n",
        "  * (no genres listed)"
      ]
    },
    {
      "cell_type": "markdown",
      "metadata": {
        "id": "2Pzz3UUki0MG"
      },
      "source": [
        "### All About df_Movie"
      ]
    },
    {
      "cell_type": "code",
      "metadata": {
        "id": "yElsAi1qZG61",
        "colab": {
          "base_uri": "https://localhost:8080/",
          "height": 419
        },
        "outputId": "9e9b14e8-cc0d-43b8-bed5-322f3b62c179"
      },
      "source": [
        "df_movie"
      ],
      "execution_count": 3,
      "outputs": [
        {
          "output_type": "execute_result",
          "data": {
            "text/html": [
              "<div>\n",
              "<style scoped>\n",
              "    .dataframe tbody tr th:only-of-type {\n",
              "        vertical-align: middle;\n",
              "    }\n",
              "\n",
              "    .dataframe tbody tr th {\n",
              "        vertical-align: top;\n",
              "    }\n",
              "\n",
              "    .dataframe thead th {\n",
              "        text-align: right;\n",
              "    }\n",
              "</style>\n",
              "<table border=\"1\" class=\"dataframe\">\n",
              "  <thead>\n",
              "    <tr style=\"text-align: right;\">\n",
              "      <th></th>\n",
              "      <th>movieId</th>\n",
              "      <th>title</th>\n",
              "      <th>genres</th>\n",
              "    </tr>\n",
              "  </thead>\n",
              "  <tbody>\n",
              "    <tr>\n",
              "      <th>0</th>\n",
              "      <td>1</td>\n",
              "      <td>Toy Story (1995)</td>\n",
              "      <td>Adventure|Animation|Children|Comedy|Fantasy</td>\n",
              "    </tr>\n",
              "    <tr>\n",
              "      <th>1</th>\n",
              "      <td>2</td>\n",
              "      <td>Jumanji (1995)</td>\n",
              "      <td>Adventure|Children|Fantasy</td>\n",
              "    </tr>\n",
              "    <tr>\n",
              "      <th>2</th>\n",
              "      <td>3</td>\n",
              "      <td>Grumpier Old Men (1995)</td>\n",
              "      <td>Comedy|Romance</td>\n",
              "    </tr>\n",
              "    <tr>\n",
              "      <th>3</th>\n",
              "      <td>4</td>\n",
              "      <td>Waiting to Exhale (1995)</td>\n",
              "      <td>Comedy|Drama|Romance</td>\n",
              "    </tr>\n",
              "    <tr>\n",
              "      <th>4</th>\n",
              "      <td>5</td>\n",
              "      <td>Father of the Bride Part II (1995)</td>\n",
              "      <td>Comedy</td>\n",
              "    </tr>\n",
              "    <tr>\n",
              "      <th>...</th>\n",
              "      <td>...</td>\n",
              "      <td>...</td>\n",
              "      <td>...</td>\n",
              "    </tr>\n",
              "    <tr>\n",
              "      <th>9737</th>\n",
              "      <td>193581</td>\n",
              "      <td>Black Butler: Book of the Atlantic (2017)</td>\n",
              "      <td>Action|Animation|Comedy|Fantasy</td>\n",
              "    </tr>\n",
              "    <tr>\n",
              "      <th>9738</th>\n",
              "      <td>193583</td>\n",
              "      <td>No Game No Life: Zero (2017)</td>\n",
              "      <td>Animation|Comedy|Fantasy</td>\n",
              "    </tr>\n",
              "    <tr>\n",
              "      <th>9739</th>\n",
              "      <td>193585</td>\n",
              "      <td>Flint (2017)</td>\n",
              "      <td>Drama</td>\n",
              "    </tr>\n",
              "    <tr>\n",
              "      <th>9740</th>\n",
              "      <td>193587</td>\n",
              "      <td>Bungo Stray Dogs: Dead Apple (2018)</td>\n",
              "      <td>Action|Animation</td>\n",
              "    </tr>\n",
              "    <tr>\n",
              "      <th>9741</th>\n",
              "      <td>193609</td>\n",
              "      <td>Andrew Dice Clay: Dice Rules (1991)</td>\n",
              "      <td>Comedy</td>\n",
              "    </tr>\n",
              "  </tbody>\n",
              "</table>\n",
              "<p>9742 rows × 3 columns</p>\n",
              "</div>"
            ],
            "text/plain": [
              "      movieId  ...                                       genres\n",
              "0           1  ...  Adventure|Animation|Children|Comedy|Fantasy\n",
              "1           2  ...                   Adventure|Children|Fantasy\n",
              "2           3  ...                               Comedy|Romance\n",
              "3           4  ...                         Comedy|Drama|Romance\n",
              "4           5  ...                                       Comedy\n",
              "...       ...  ...                                          ...\n",
              "9737   193581  ...              Action|Animation|Comedy|Fantasy\n",
              "9738   193583  ...                     Animation|Comedy|Fantasy\n",
              "9739   193585  ...                                        Drama\n",
              "9740   193587  ...                             Action|Animation\n",
              "9741   193609  ...                                       Comedy\n",
              "\n",
              "[9742 rows x 3 columns]"
            ]
          },
          "metadata": {},
          "execution_count": 3
        }
      ]
    },
    {
      "cell_type": "code",
      "metadata": {
        "colab": {
          "base_uri": "https://localhost:8080/"
        },
        "id": "3arP8tYWZZTe",
        "outputId": "6b7e280d-7dd5-4db3-be79-752e5ab178b7"
      },
      "source": [
        "df_movie.info()"
      ],
      "execution_count": 4,
      "outputs": [
        {
          "output_type": "stream",
          "name": "stdout",
          "text": [
            "<class 'pandas.core.frame.DataFrame'>\n",
            "RangeIndex: 9742 entries, 0 to 9741\n",
            "Data columns (total 3 columns):\n",
            " #   Column   Non-Null Count  Dtype \n",
            "---  ------   --------------  ----- \n",
            " 0   movieId  9742 non-null   int64 \n",
            " 1   title    9742 non-null   object\n",
            " 2   genres   9742 non-null   object\n",
            "dtypes: int64(1), object(2)\n",
            "memory usage: 228.5+ KB\n"
          ]
        }
      ]
    },
    {
      "cell_type": "code",
      "metadata": {
        "colab": {
          "base_uri": "https://localhost:8080/",
          "height": 297
        },
        "id": "2P24ZyJKZywe",
        "outputId": "c556249e-f5df-429f-ef60-de05a1d35f19"
      },
      "source": [
        "df_movie.describe()"
      ],
      "execution_count": 5,
      "outputs": [
        {
          "output_type": "execute_result",
          "data": {
            "text/html": [
              "<div>\n",
              "<style scoped>\n",
              "    .dataframe tbody tr th:only-of-type {\n",
              "        vertical-align: middle;\n",
              "    }\n",
              "\n",
              "    .dataframe tbody tr th {\n",
              "        vertical-align: top;\n",
              "    }\n",
              "\n",
              "    .dataframe thead th {\n",
              "        text-align: right;\n",
              "    }\n",
              "</style>\n",
              "<table border=\"1\" class=\"dataframe\">\n",
              "  <thead>\n",
              "    <tr style=\"text-align: right;\">\n",
              "      <th></th>\n",
              "      <th>movieId</th>\n",
              "    </tr>\n",
              "  </thead>\n",
              "  <tbody>\n",
              "    <tr>\n",
              "      <th>count</th>\n",
              "      <td>9742.000000</td>\n",
              "    </tr>\n",
              "    <tr>\n",
              "      <th>mean</th>\n",
              "      <td>42200.353623</td>\n",
              "    </tr>\n",
              "    <tr>\n",
              "      <th>std</th>\n",
              "      <td>52160.494854</td>\n",
              "    </tr>\n",
              "    <tr>\n",
              "      <th>min</th>\n",
              "      <td>1.000000</td>\n",
              "    </tr>\n",
              "    <tr>\n",
              "      <th>25%</th>\n",
              "      <td>3248.250000</td>\n",
              "    </tr>\n",
              "    <tr>\n",
              "      <th>50%</th>\n",
              "      <td>7300.000000</td>\n",
              "    </tr>\n",
              "    <tr>\n",
              "      <th>75%</th>\n",
              "      <td>76232.000000</td>\n",
              "    </tr>\n",
              "    <tr>\n",
              "      <th>max</th>\n",
              "      <td>193609.000000</td>\n",
              "    </tr>\n",
              "  </tbody>\n",
              "</table>\n",
              "</div>"
            ],
            "text/plain": [
              "             movieId\n",
              "count    9742.000000\n",
              "mean    42200.353623\n",
              "std     52160.494854\n",
              "min         1.000000\n",
              "25%      3248.250000\n",
              "50%      7300.000000\n",
              "75%     76232.000000\n",
              "max    193609.000000"
            ]
          },
          "metadata": {},
          "execution_count": 5
        }
      ]
    },
    {
      "cell_type": "markdown",
      "metadata": {
        "id": "uiIGglBBjHPc"
      },
      "source": [
        "### All About df_rating"
      ]
    },
    {
      "cell_type": "code",
      "metadata": {
        "colab": {
          "base_uri": "https://localhost:8080/",
          "height": 419
        },
        "id": "ZN5w-1XiZKRs",
        "outputId": "23ef7769-baf8-4b66-ac61-b22d48bb5a6d"
      },
      "source": [
        "df_rating"
      ],
      "execution_count": 6,
      "outputs": [
        {
          "output_type": "execute_result",
          "data": {
            "text/html": [
              "<div>\n",
              "<style scoped>\n",
              "    .dataframe tbody tr th:only-of-type {\n",
              "        vertical-align: middle;\n",
              "    }\n",
              "\n",
              "    .dataframe tbody tr th {\n",
              "        vertical-align: top;\n",
              "    }\n",
              "\n",
              "    .dataframe thead th {\n",
              "        text-align: right;\n",
              "    }\n",
              "</style>\n",
              "<table border=\"1\" class=\"dataframe\">\n",
              "  <thead>\n",
              "    <tr style=\"text-align: right;\">\n",
              "      <th></th>\n",
              "      <th>userId</th>\n",
              "      <th>movieId</th>\n",
              "      <th>rating</th>\n",
              "      <th>timestamp</th>\n",
              "    </tr>\n",
              "  </thead>\n",
              "  <tbody>\n",
              "    <tr>\n",
              "      <th>0</th>\n",
              "      <td>1</td>\n",
              "      <td>1</td>\n",
              "      <td>4.0</td>\n",
              "      <td>964982703</td>\n",
              "    </tr>\n",
              "    <tr>\n",
              "      <th>1</th>\n",
              "      <td>1</td>\n",
              "      <td>3</td>\n",
              "      <td>4.0</td>\n",
              "      <td>964981247</td>\n",
              "    </tr>\n",
              "    <tr>\n",
              "      <th>2</th>\n",
              "      <td>1</td>\n",
              "      <td>6</td>\n",
              "      <td>4.0</td>\n",
              "      <td>964982224</td>\n",
              "    </tr>\n",
              "    <tr>\n",
              "      <th>3</th>\n",
              "      <td>1</td>\n",
              "      <td>47</td>\n",
              "      <td>5.0</td>\n",
              "      <td>964983815</td>\n",
              "    </tr>\n",
              "    <tr>\n",
              "      <th>4</th>\n",
              "      <td>1</td>\n",
              "      <td>50</td>\n",
              "      <td>5.0</td>\n",
              "      <td>964982931</td>\n",
              "    </tr>\n",
              "    <tr>\n",
              "      <th>...</th>\n",
              "      <td>...</td>\n",
              "      <td>...</td>\n",
              "      <td>...</td>\n",
              "      <td>...</td>\n",
              "    </tr>\n",
              "    <tr>\n",
              "      <th>100831</th>\n",
              "      <td>610</td>\n",
              "      <td>166534</td>\n",
              "      <td>4.0</td>\n",
              "      <td>1493848402</td>\n",
              "    </tr>\n",
              "    <tr>\n",
              "      <th>100832</th>\n",
              "      <td>610</td>\n",
              "      <td>168248</td>\n",
              "      <td>5.0</td>\n",
              "      <td>1493850091</td>\n",
              "    </tr>\n",
              "    <tr>\n",
              "      <th>100833</th>\n",
              "      <td>610</td>\n",
              "      <td>168250</td>\n",
              "      <td>5.0</td>\n",
              "      <td>1494273047</td>\n",
              "    </tr>\n",
              "    <tr>\n",
              "      <th>100834</th>\n",
              "      <td>610</td>\n",
              "      <td>168252</td>\n",
              "      <td>5.0</td>\n",
              "      <td>1493846352</td>\n",
              "    </tr>\n",
              "    <tr>\n",
              "      <th>100835</th>\n",
              "      <td>610</td>\n",
              "      <td>170875</td>\n",
              "      <td>3.0</td>\n",
              "      <td>1493846415</td>\n",
              "    </tr>\n",
              "  </tbody>\n",
              "</table>\n",
              "<p>100836 rows × 4 columns</p>\n",
              "</div>"
            ],
            "text/plain": [
              "        userId  movieId  rating   timestamp\n",
              "0            1        1     4.0   964982703\n",
              "1            1        3     4.0   964981247\n",
              "2            1        6     4.0   964982224\n",
              "3            1       47     5.0   964983815\n",
              "4            1       50     5.0   964982931\n",
              "...        ...      ...     ...         ...\n",
              "100831     610   166534     4.0  1493848402\n",
              "100832     610   168248     5.0  1493850091\n",
              "100833     610   168250     5.0  1494273047\n",
              "100834     610   168252     5.0  1493846352\n",
              "100835     610   170875     3.0  1493846415\n",
              "\n",
              "[100836 rows x 4 columns]"
            ]
          },
          "metadata": {},
          "execution_count": 6
        }
      ]
    },
    {
      "cell_type": "code",
      "metadata": {
        "colab": {
          "base_uri": "https://localhost:8080/"
        },
        "id": "GOaksSoVZi8s",
        "outputId": "d0254794-cb77-4948-8dbb-6c6302117c43"
      },
      "source": [
        "df_rating.info()"
      ],
      "execution_count": 7,
      "outputs": [
        {
          "output_type": "stream",
          "name": "stdout",
          "text": [
            "<class 'pandas.core.frame.DataFrame'>\n",
            "RangeIndex: 100836 entries, 0 to 100835\n",
            "Data columns (total 4 columns):\n",
            " #   Column     Non-Null Count   Dtype  \n",
            "---  ------     --------------   -----  \n",
            " 0   userId     100836 non-null  int64  \n",
            " 1   movieId    100836 non-null  int64  \n",
            " 2   rating     100836 non-null  float64\n",
            " 3   timestamp  100836 non-null  int64  \n",
            "dtypes: float64(1), int64(3)\n",
            "memory usage: 3.1 MB\n"
          ]
        }
      ]
    },
    {
      "cell_type": "code",
      "metadata": {
        "colab": {
          "base_uri": "https://localhost:8080/"
        },
        "id": "Y2cBCgmJDc-2",
        "outputId": "e3776368-08e4-4fa8-cea1-401de51c7fba"
      },
      "source": [
        "print('Bintang yang diberikan: ', df_rating.rating.unique())"
      ],
      "execution_count": 8,
      "outputs": [
        {
          "output_type": "stream",
          "name": "stdout",
          "text": [
            "Bintang yang diberikan:  [4.  5.  3.  2.  1.  4.5 3.5 2.5 0.5 1.5]\n"
          ]
        }
      ]
    },
    {
      "cell_type": "code",
      "metadata": {
        "colab": {
          "base_uri": "https://localhost:8080/",
          "height": 297
        },
        "id": "lLwfkzaCZ2Xp",
        "outputId": "e6de4f08-214b-4588-9375-1bd71ae6f7fd"
      },
      "source": [
        "df_rating.describe()"
      ],
      "execution_count": 9,
      "outputs": [
        {
          "output_type": "execute_result",
          "data": {
            "text/html": [
              "<div>\n",
              "<style scoped>\n",
              "    .dataframe tbody tr th:only-of-type {\n",
              "        vertical-align: middle;\n",
              "    }\n",
              "\n",
              "    .dataframe tbody tr th {\n",
              "        vertical-align: top;\n",
              "    }\n",
              "\n",
              "    .dataframe thead th {\n",
              "        text-align: right;\n",
              "    }\n",
              "</style>\n",
              "<table border=\"1\" class=\"dataframe\">\n",
              "  <thead>\n",
              "    <tr style=\"text-align: right;\">\n",
              "      <th></th>\n",
              "      <th>userId</th>\n",
              "      <th>movieId</th>\n",
              "      <th>rating</th>\n",
              "      <th>timestamp</th>\n",
              "    </tr>\n",
              "  </thead>\n",
              "  <tbody>\n",
              "    <tr>\n",
              "      <th>count</th>\n",
              "      <td>100836.000000</td>\n",
              "      <td>100836.000000</td>\n",
              "      <td>100836.000000</td>\n",
              "      <td>1.008360e+05</td>\n",
              "    </tr>\n",
              "    <tr>\n",
              "      <th>mean</th>\n",
              "      <td>326.127564</td>\n",
              "      <td>19435.295718</td>\n",
              "      <td>3.501557</td>\n",
              "      <td>1.205946e+09</td>\n",
              "    </tr>\n",
              "    <tr>\n",
              "      <th>std</th>\n",
              "      <td>182.618491</td>\n",
              "      <td>35530.987199</td>\n",
              "      <td>1.042529</td>\n",
              "      <td>2.162610e+08</td>\n",
              "    </tr>\n",
              "    <tr>\n",
              "      <th>min</th>\n",
              "      <td>1.000000</td>\n",
              "      <td>1.000000</td>\n",
              "      <td>0.500000</td>\n",
              "      <td>8.281246e+08</td>\n",
              "    </tr>\n",
              "    <tr>\n",
              "      <th>25%</th>\n",
              "      <td>177.000000</td>\n",
              "      <td>1199.000000</td>\n",
              "      <td>3.000000</td>\n",
              "      <td>1.019124e+09</td>\n",
              "    </tr>\n",
              "    <tr>\n",
              "      <th>50%</th>\n",
              "      <td>325.000000</td>\n",
              "      <td>2991.000000</td>\n",
              "      <td>3.500000</td>\n",
              "      <td>1.186087e+09</td>\n",
              "    </tr>\n",
              "    <tr>\n",
              "      <th>75%</th>\n",
              "      <td>477.000000</td>\n",
              "      <td>8122.000000</td>\n",
              "      <td>4.000000</td>\n",
              "      <td>1.435994e+09</td>\n",
              "    </tr>\n",
              "    <tr>\n",
              "      <th>max</th>\n",
              "      <td>610.000000</td>\n",
              "      <td>193609.000000</td>\n",
              "      <td>5.000000</td>\n",
              "      <td>1.537799e+09</td>\n",
              "    </tr>\n",
              "  </tbody>\n",
              "</table>\n",
              "</div>"
            ],
            "text/plain": [
              "              userId        movieId         rating     timestamp\n",
              "count  100836.000000  100836.000000  100836.000000  1.008360e+05\n",
              "mean      326.127564   19435.295718       3.501557  1.205946e+09\n",
              "std       182.618491   35530.987199       1.042529  2.162610e+08\n",
              "min         1.000000       1.000000       0.500000  8.281246e+08\n",
              "25%       177.000000    1199.000000       3.000000  1.019124e+09\n",
              "50%       325.000000    2991.000000       3.500000  1.186087e+09\n",
              "75%       477.000000    8122.000000       4.000000  1.435994e+09\n",
              "max       610.000000  193609.000000       5.000000  1.537799e+09"
            ]
          },
          "metadata": {},
          "execution_count": 9
        }
      ]
    },
    {
      "cell_type": "markdown",
      "metadata": {
        "id": "k5fnuAS_jMJR"
      },
      "source": [
        "### All About df_tags"
      ]
    },
    {
      "cell_type": "code",
      "metadata": {
        "colab": {
          "base_uri": "https://localhost:8080/",
          "height": 0
        },
        "id": "f_vbMHQzZOj4",
        "outputId": "3dcbb0a0-de7b-474d-8c5e-ade5721f2a19"
      },
      "source": [
        "df_tags"
      ],
      "execution_count": 10,
      "outputs": [
        {
          "output_type": "execute_result",
          "data": {
            "text/html": [
              "<div>\n",
              "<style scoped>\n",
              "    .dataframe tbody tr th:only-of-type {\n",
              "        vertical-align: middle;\n",
              "    }\n",
              "\n",
              "    .dataframe tbody tr th {\n",
              "        vertical-align: top;\n",
              "    }\n",
              "\n",
              "    .dataframe thead th {\n",
              "        text-align: right;\n",
              "    }\n",
              "</style>\n",
              "<table border=\"1\" class=\"dataframe\">\n",
              "  <thead>\n",
              "    <tr style=\"text-align: right;\">\n",
              "      <th></th>\n",
              "      <th>userId</th>\n",
              "      <th>movieId</th>\n",
              "      <th>tag</th>\n",
              "      <th>timestamp</th>\n",
              "    </tr>\n",
              "  </thead>\n",
              "  <tbody>\n",
              "    <tr>\n",
              "      <th>0</th>\n",
              "      <td>2</td>\n",
              "      <td>60756</td>\n",
              "      <td>funny</td>\n",
              "      <td>1445714994</td>\n",
              "    </tr>\n",
              "    <tr>\n",
              "      <th>1</th>\n",
              "      <td>2</td>\n",
              "      <td>60756</td>\n",
              "      <td>Highly quotable</td>\n",
              "      <td>1445714996</td>\n",
              "    </tr>\n",
              "    <tr>\n",
              "      <th>2</th>\n",
              "      <td>2</td>\n",
              "      <td>60756</td>\n",
              "      <td>will ferrell</td>\n",
              "      <td>1445714992</td>\n",
              "    </tr>\n",
              "    <tr>\n",
              "      <th>3</th>\n",
              "      <td>2</td>\n",
              "      <td>89774</td>\n",
              "      <td>Boxing story</td>\n",
              "      <td>1445715207</td>\n",
              "    </tr>\n",
              "    <tr>\n",
              "      <th>4</th>\n",
              "      <td>2</td>\n",
              "      <td>89774</td>\n",
              "      <td>MMA</td>\n",
              "      <td>1445715200</td>\n",
              "    </tr>\n",
              "    <tr>\n",
              "      <th>...</th>\n",
              "      <td>...</td>\n",
              "      <td>...</td>\n",
              "      <td>...</td>\n",
              "      <td>...</td>\n",
              "    </tr>\n",
              "    <tr>\n",
              "      <th>3678</th>\n",
              "      <td>606</td>\n",
              "      <td>7382</td>\n",
              "      <td>for katie</td>\n",
              "      <td>1171234019</td>\n",
              "    </tr>\n",
              "    <tr>\n",
              "      <th>3679</th>\n",
              "      <td>606</td>\n",
              "      <td>7936</td>\n",
              "      <td>austere</td>\n",
              "      <td>1173392334</td>\n",
              "    </tr>\n",
              "    <tr>\n",
              "      <th>3680</th>\n",
              "      <td>610</td>\n",
              "      <td>3265</td>\n",
              "      <td>gun fu</td>\n",
              "      <td>1493843984</td>\n",
              "    </tr>\n",
              "    <tr>\n",
              "      <th>3681</th>\n",
              "      <td>610</td>\n",
              "      <td>3265</td>\n",
              "      <td>heroic bloodshed</td>\n",
              "      <td>1493843978</td>\n",
              "    </tr>\n",
              "    <tr>\n",
              "      <th>3682</th>\n",
              "      <td>610</td>\n",
              "      <td>168248</td>\n",
              "      <td>Heroic Bloodshed</td>\n",
              "      <td>1493844270</td>\n",
              "    </tr>\n",
              "  </tbody>\n",
              "</table>\n",
              "<p>3683 rows × 4 columns</p>\n",
              "</div>"
            ],
            "text/plain": [
              "      userId  movieId               tag   timestamp\n",
              "0          2    60756             funny  1445714994\n",
              "1          2    60756   Highly quotable  1445714996\n",
              "2          2    60756      will ferrell  1445714992\n",
              "3          2    89774      Boxing story  1445715207\n",
              "4          2    89774               MMA  1445715200\n",
              "...      ...      ...               ...         ...\n",
              "3678     606     7382         for katie  1171234019\n",
              "3679     606     7936           austere  1173392334\n",
              "3680     610     3265            gun fu  1493843984\n",
              "3681     610     3265  heroic bloodshed  1493843978\n",
              "3682     610   168248  Heroic Bloodshed  1493844270\n",
              "\n",
              "[3683 rows x 4 columns]"
            ]
          },
          "metadata": {},
          "execution_count": 10
        }
      ]
    },
    {
      "cell_type": "code",
      "metadata": {
        "colab": {
          "base_uri": "https://localhost:8080/"
        },
        "id": "n2jlTwqCZk-_",
        "outputId": "30e2bb06-7f27-4a33-e734-bfc460091865"
      },
      "source": [
        "df_tags.info()"
      ],
      "execution_count": 11,
      "outputs": [
        {
          "output_type": "stream",
          "name": "stdout",
          "text": [
            "<class 'pandas.core.frame.DataFrame'>\n",
            "RangeIndex: 3683 entries, 0 to 3682\n",
            "Data columns (total 4 columns):\n",
            " #   Column     Non-Null Count  Dtype \n",
            "---  ------     --------------  ----- \n",
            " 0   userId     3683 non-null   int64 \n",
            " 1   movieId    3683 non-null   int64 \n",
            " 2   tag        3683 non-null   object\n",
            " 3   timestamp  3683 non-null   int64 \n",
            "dtypes: int64(3), object(1)\n",
            "memory usage: 115.2+ KB\n"
          ]
        }
      ]
    },
    {
      "cell_type": "code",
      "metadata": {
        "colab": {
          "base_uri": "https://localhost:8080/",
          "height": 0
        },
        "id": "dKdjiWdEZ40t",
        "outputId": "ef0528b7-3174-40e3-ca82-3c25498172e7"
      },
      "source": [
        "df_tags.describe()"
      ],
      "execution_count": 12,
      "outputs": [
        {
          "output_type": "execute_result",
          "data": {
            "text/html": [
              "<div>\n",
              "<style scoped>\n",
              "    .dataframe tbody tr th:only-of-type {\n",
              "        vertical-align: middle;\n",
              "    }\n",
              "\n",
              "    .dataframe tbody tr th {\n",
              "        vertical-align: top;\n",
              "    }\n",
              "\n",
              "    .dataframe thead th {\n",
              "        text-align: right;\n",
              "    }\n",
              "</style>\n",
              "<table border=\"1\" class=\"dataframe\">\n",
              "  <thead>\n",
              "    <tr style=\"text-align: right;\">\n",
              "      <th></th>\n",
              "      <th>userId</th>\n",
              "      <th>movieId</th>\n",
              "      <th>timestamp</th>\n",
              "    </tr>\n",
              "  </thead>\n",
              "  <tbody>\n",
              "    <tr>\n",
              "      <th>count</th>\n",
              "      <td>3683.000000</td>\n",
              "      <td>3683.000000</td>\n",
              "      <td>3.683000e+03</td>\n",
              "    </tr>\n",
              "    <tr>\n",
              "      <th>mean</th>\n",
              "      <td>431.149335</td>\n",
              "      <td>27252.013576</td>\n",
              "      <td>1.320032e+09</td>\n",
              "    </tr>\n",
              "    <tr>\n",
              "      <th>std</th>\n",
              "      <td>158.472553</td>\n",
              "      <td>43490.558803</td>\n",
              "      <td>1.721025e+08</td>\n",
              "    </tr>\n",
              "    <tr>\n",
              "      <th>min</th>\n",
              "      <td>2.000000</td>\n",
              "      <td>1.000000</td>\n",
              "      <td>1.137179e+09</td>\n",
              "    </tr>\n",
              "    <tr>\n",
              "      <th>25%</th>\n",
              "      <td>424.000000</td>\n",
              "      <td>1262.500000</td>\n",
              "      <td>1.137521e+09</td>\n",
              "    </tr>\n",
              "    <tr>\n",
              "      <th>50%</th>\n",
              "      <td>474.000000</td>\n",
              "      <td>4454.000000</td>\n",
              "      <td>1.269833e+09</td>\n",
              "    </tr>\n",
              "    <tr>\n",
              "      <th>75%</th>\n",
              "      <td>477.000000</td>\n",
              "      <td>39263.000000</td>\n",
              "      <td>1.498457e+09</td>\n",
              "    </tr>\n",
              "    <tr>\n",
              "      <th>max</th>\n",
              "      <td>610.000000</td>\n",
              "      <td>193565.000000</td>\n",
              "      <td>1.537099e+09</td>\n",
              "    </tr>\n",
              "  </tbody>\n",
              "</table>\n",
              "</div>"
            ],
            "text/plain": [
              "            userId        movieId     timestamp\n",
              "count  3683.000000    3683.000000  3.683000e+03\n",
              "mean    431.149335   27252.013576  1.320032e+09\n",
              "std     158.472553   43490.558803  1.721025e+08\n",
              "min       2.000000       1.000000  1.137179e+09\n",
              "25%     424.000000    1262.500000  1.137521e+09\n",
              "50%     474.000000    4454.000000  1.269833e+09\n",
              "75%     477.000000   39263.000000  1.498457e+09\n",
              "max     610.000000  193565.000000  1.537099e+09"
            ]
          },
          "metadata": {},
          "execution_count": 12
        }
      ]
    },
    {
      "cell_type": "markdown",
      "metadata": {
        "id": "GTcXgLnnjQlH"
      },
      "source": [
        "### All About df_links"
      ]
    },
    {
      "cell_type": "code",
      "metadata": {
        "colab": {
          "base_uri": "https://localhost:8080/",
          "height": 0
        },
        "id": "N4aIQ1iBZRCX",
        "outputId": "ed3a828c-56cf-449e-97ab-de138f9cd8c1"
      },
      "source": [
        "df_links"
      ],
      "execution_count": 13,
      "outputs": [
        {
          "output_type": "execute_result",
          "data": {
            "text/html": [
              "<div>\n",
              "<style scoped>\n",
              "    .dataframe tbody tr th:only-of-type {\n",
              "        vertical-align: middle;\n",
              "    }\n",
              "\n",
              "    .dataframe tbody tr th {\n",
              "        vertical-align: top;\n",
              "    }\n",
              "\n",
              "    .dataframe thead th {\n",
              "        text-align: right;\n",
              "    }\n",
              "</style>\n",
              "<table border=\"1\" class=\"dataframe\">\n",
              "  <thead>\n",
              "    <tr style=\"text-align: right;\">\n",
              "      <th></th>\n",
              "      <th>movieId</th>\n",
              "      <th>imdbId</th>\n",
              "      <th>tmdbId</th>\n",
              "    </tr>\n",
              "  </thead>\n",
              "  <tbody>\n",
              "    <tr>\n",
              "      <th>0</th>\n",
              "      <td>1</td>\n",
              "      <td>114709</td>\n",
              "      <td>862.0</td>\n",
              "    </tr>\n",
              "    <tr>\n",
              "      <th>1</th>\n",
              "      <td>2</td>\n",
              "      <td>113497</td>\n",
              "      <td>8844.0</td>\n",
              "    </tr>\n",
              "    <tr>\n",
              "      <th>2</th>\n",
              "      <td>3</td>\n",
              "      <td>113228</td>\n",
              "      <td>15602.0</td>\n",
              "    </tr>\n",
              "    <tr>\n",
              "      <th>3</th>\n",
              "      <td>4</td>\n",
              "      <td>114885</td>\n",
              "      <td>31357.0</td>\n",
              "    </tr>\n",
              "    <tr>\n",
              "      <th>4</th>\n",
              "      <td>5</td>\n",
              "      <td>113041</td>\n",
              "      <td>11862.0</td>\n",
              "    </tr>\n",
              "    <tr>\n",
              "      <th>...</th>\n",
              "      <td>...</td>\n",
              "      <td>...</td>\n",
              "      <td>...</td>\n",
              "    </tr>\n",
              "    <tr>\n",
              "      <th>9737</th>\n",
              "      <td>193581</td>\n",
              "      <td>5476944</td>\n",
              "      <td>432131.0</td>\n",
              "    </tr>\n",
              "    <tr>\n",
              "      <th>9738</th>\n",
              "      <td>193583</td>\n",
              "      <td>5914996</td>\n",
              "      <td>445030.0</td>\n",
              "    </tr>\n",
              "    <tr>\n",
              "      <th>9739</th>\n",
              "      <td>193585</td>\n",
              "      <td>6397426</td>\n",
              "      <td>479308.0</td>\n",
              "    </tr>\n",
              "    <tr>\n",
              "      <th>9740</th>\n",
              "      <td>193587</td>\n",
              "      <td>8391976</td>\n",
              "      <td>483455.0</td>\n",
              "    </tr>\n",
              "    <tr>\n",
              "      <th>9741</th>\n",
              "      <td>193609</td>\n",
              "      <td>101726</td>\n",
              "      <td>37891.0</td>\n",
              "    </tr>\n",
              "  </tbody>\n",
              "</table>\n",
              "<p>9742 rows × 3 columns</p>\n",
              "</div>"
            ],
            "text/plain": [
              "      movieId   imdbId    tmdbId\n",
              "0           1   114709     862.0\n",
              "1           2   113497    8844.0\n",
              "2           3   113228   15602.0\n",
              "3           4   114885   31357.0\n",
              "4           5   113041   11862.0\n",
              "...       ...      ...       ...\n",
              "9737   193581  5476944  432131.0\n",
              "9738   193583  5914996  445030.0\n",
              "9739   193585  6397426  479308.0\n",
              "9740   193587  8391976  483455.0\n",
              "9741   193609   101726   37891.0\n",
              "\n",
              "[9742 rows x 3 columns]"
            ]
          },
          "metadata": {},
          "execution_count": 13
        }
      ]
    },
    {
      "cell_type": "code",
      "metadata": {
        "colab": {
          "base_uri": "https://localhost:8080/"
        },
        "id": "QJaIT0CGZnAN",
        "outputId": "708afaea-8dfc-451d-e866-2e5c6a12755b"
      },
      "source": [
        "df_links.info()"
      ],
      "execution_count": 14,
      "outputs": [
        {
          "output_type": "stream",
          "name": "stdout",
          "text": [
            "<class 'pandas.core.frame.DataFrame'>\n",
            "RangeIndex: 9742 entries, 0 to 9741\n",
            "Data columns (total 3 columns):\n",
            " #   Column   Non-Null Count  Dtype  \n",
            "---  ------   --------------  -----  \n",
            " 0   movieId  9742 non-null   int64  \n",
            " 1   imdbId   9742 non-null   int64  \n",
            " 2   tmdbId   9734 non-null   float64\n",
            "dtypes: float64(1), int64(2)\n",
            "memory usage: 228.5 KB\n"
          ]
        }
      ]
    },
    {
      "cell_type": "code",
      "metadata": {
        "colab": {
          "base_uri": "https://localhost:8080/",
          "height": 0
        },
        "id": "LEfmR212Z7XA",
        "outputId": "be00e4dc-fa41-41e2-9f9f-84e74a43c7a3"
      },
      "source": [
        "df_links.describe()"
      ],
      "execution_count": 15,
      "outputs": [
        {
          "output_type": "execute_result",
          "data": {
            "text/html": [
              "<div>\n",
              "<style scoped>\n",
              "    .dataframe tbody tr th:only-of-type {\n",
              "        vertical-align: middle;\n",
              "    }\n",
              "\n",
              "    .dataframe tbody tr th {\n",
              "        vertical-align: top;\n",
              "    }\n",
              "\n",
              "    .dataframe thead th {\n",
              "        text-align: right;\n",
              "    }\n",
              "</style>\n",
              "<table border=\"1\" class=\"dataframe\">\n",
              "  <thead>\n",
              "    <tr style=\"text-align: right;\">\n",
              "      <th></th>\n",
              "      <th>movieId</th>\n",
              "      <th>imdbId</th>\n",
              "      <th>tmdbId</th>\n",
              "    </tr>\n",
              "  </thead>\n",
              "  <tbody>\n",
              "    <tr>\n",
              "      <th>count</th>\n",
              "      <td>9742.000000</td>\n",
              "      <td>9.742000e+03</td>\n",
              "      <td>9734.000000</td>\n",
              "    </tr>\n",
              "    <tr>\n",
              "      <th>mean</th>\n",
              "      <td>42200.353623</td>\n",
              "      <td>6.771839e+05</td>\n",
              "      <td>55162.123793</td>\n",
              "    </tr>\n",
              "    <tr>\n",
              "      <th>std</th>\n",
              "      <td>52160.494854</td>\n",
              "      <td>1.107228e+06</td>\n",
              "      <td>93653.481487</td>\n",
              "    </tr>\n",
              "    <tr>\n",
              "      <th>min</th>\n",
              "      <td>1.000000</td>\n",
              "      <td>4.170000e+02</td>\n",
              "      <td>2.000000</td>\n",
              "    </tr>\n",
              "    <tr>\n",
              "      <th>25%</th>\n",
              "      <td>3248.250000</td>\n",
              "      <td>9.518075e+04</td>\n",
              "      <td>9665.500000</td>\n",
              "    </tr>\n",
              "    <tr>\n",
              "      <th>50%</th>\n",
              "      <td>7300.000000</td>\n",
              "      <td>1.672605e+05</td>\n",
              "      <td>16529.000000</td>\n",
              "    </tr>\n",
              "    <tr>\n",
              "      <th>75%</th>\n",
              "      <td>76232.000000</td>\n",
              "      <td>8.055685e+05</td>\n",
              "      <td>44205.750000</td>\n",
              "    </tr>\n",
              "    <tr>\n",
              "      <th>max</th>\n",
              "      <td>193609.000000</td>\n",
              "      <td>8.391976e+06</td>\n",
              "      <td>525662.000000</td>\n",
              "    </tr>\n",
              "  </tbody>\n",
              "</table>\n",
              "</div>"
            ],
            "text/plain": [
              "             movieId        imdbId         tmdbId\n",
              "count    9742.000000  9.742000e+03    9734.000000\n",
              "mean    42200.353623  6.771839e+05   55162.123793\n",
              "std     52160.494854  1.107228e+06   93653.481487\n",
              "min         1.000000  4.170000e+02       2.000000\n",
              "25%      3248.250000  9.518075e+04    9665.500000\n",
              "50%      7300.000000  1.672605e+05   16529.000000\n",
              "75%     76232.000000  8.055685e+05   44205.750000\n",
              "max    193609.000000  8.391976e+06  525662.000000"
            ]
          },
          "metadata": {},
          "execution_count": 15
        }
      ]
    },
    {
      "cell_type": "markdown",
      "metadata": {
        "id": "wzF-9IGOZTmB"
      },
      "source": [
        "### Summary of All Data\n",
        "\n",
        "Setelah penelusuran diatas, kita mengetahui bahwa data yang akan digunakan hanya berdasarkan dari dua file, yaitu rating.csv dan file movie.csv, file-file lainnya tidak akan kita gunakan. Kemudian, setelah melihat hasil dari kedua file, kita dapat menyimpulkan variable variabe yang akan digunakan adalah sebagai berikut:\n",
        "\n",
        "* movie.csv\n",
        "  * MovieID: Data ID Film (int64)\n",
        "  * Title: Judul Film (Object)\n",
        "  * Genres: Genre Film (Object)\n",
        "\n",
        "* rating.csv\n",
        "  * UserID: Data ID pengguna (int64)\n",
        "  * MoveID: Data ID Film (int64)\n",
        "  * Rating: Penilaian pengguna terhadap film (float64)\n",
        "  * Timestamp: timestamp (int64)\n",
        "\n",
        "Note: Penjelasan lebih mendetail mengenai variabel ada di pembukaan sub bab ini"
      ]
    },
    {
      "cell_type": "code",
      "metadata": {
        "colab": {
          "base_uri": "https://localhost:8080/"
        },
        "id": "RK7q_ELJjcyg",
        "outputId": "23c32354-3919-4cf3-d780-b545c3a322d1"
      },
      "source": [
        "#Perbedaan Jumlah film di masing-masing file data\n",
        "print('Jumlah Film di df_movie: ', len(df_movie.movieId.unique()))\n",
        "print('Jumlah Film di df_rating: ', len(df_rating.movieId.unique()))\n",
        "print('Jumlah Film di df_tags: ', len(df_tags.movieId.unique()))\n",
        "print('Jumlah Film di df_links: ', len(df_links.movieId.unique()))\n",
        "print('\\n')\n",
        "\n",
        "#Perbedaan jumlah film di masing-masing file data\n",
        "print('Jumlah User di df_rating', len(df_rating.userId.unique()))\n",
        "print('Jumlah User di df_tags', len(df_tags.userId.unique()))"
      ],
      "execution_count": 16,
      "outputs": [
        {
          "output_type": "stream",
          "name": "stdout",
          "text": [
            "Jumlah Film di df_movie:  9742\n",
            "Jumlah Film di df_rating:  9724\n",
            "Jumlah Film di df_tags:  1572\n",
            "Jumlah Film di df_links:  9742\n",
            "\n",
            "\n",
            "Jumlah User di df_rating 610\n",
            "Jumlah User di df_tags 58\n"
          ]
        }
      ]
    },
    {
      "cell_type": "code",
      "metadata": {
        "colab": {
          "base_uri": "https://localhost:8080/"
        },
        "id": "MBvfP1TRQ8nN",
        "outputId": "ca19699b-f1e0-4bc4-a484-64659eafb6c1"
      },
      "source": [
        "# Mengecek jumlah user\n",
        "user_all = np.concatenate((\n",
        "    df_rating.userId.unique(),\n",
        "    df_tags.userId.unique(),\n",
        "))\n",
        "\n",
        "user_all = np.sort(np.unique(user_all))\n",
        "\n",
        "print('Jumlah seluruh user berdasarkan placeID: ', len(user_all))"
      ],
      "execution_count": 17,
      "outputs": [
        {
          "output_type": "stream",
          "name": "stdout",
          "text": [
            "Jumlah seluruh user berdasarkan placeID:  610\n"
          ]
        }
      ]
    },
    {
      "cell_type": "code",
      "metadata": {
        "colab": {
          "base_uri": "https://localhost:8080/"
        },
        "id": "75wHWjrZQ-EE",
        "outputId": "1eb809f0-138b-4020-88c4-d6681c826dff"
      },
      "source": [
        "# Mengecek jumlah Movie\n",
        "movie_all = np.concatenate((\n",
        "    df_movie.movieId.unique(),\n",
        "    df_rating.movieId.unique(),\n",
        "    df_links.movieId.unique()\n",
        "))\n",
        "\n",
        "movie_all = np.sort(np.unique(movie_all))\n",
        "print('Jumlah seluruh movie berdasarkan moveId: ', len(movie_all))"
      ],
      "execution_count": 18,
      "outputs": [
        {
          "output_type": "stream",
          "name": "stdout",
          "text": [
            "Jumlah seluruh movie berdasarkan moveId:  9742\n"
          ]
        }
      ]
    },
    {
      "cell_type": "code",
      "metadata": {
        "colab": {
          "base_uri": "https://localhost:8080/",
          "height": 419
        },
        "id": "56DzJzGE9N8h",
        "outputId": "ee6018e2-85f4-4093-f41e-b1392f991e8a"
      },
      "source": [
        "# Memisahkan column tahun untuk visualisasi tahun\n",
        "df_movie['year'] = df_movie['title'].str.extract('(\\(\\d+\\))')\n",
        "df_movie['year'] = df_movie['year'].str.extract('(\\d+)').astype(float)\n",
        "df_movie = df_movie.sort_values( by = 'year', ascending = False)\n",
        "df_movie"
      ],
      "execution_count": 19,
      "outputs": [
        {
          "output_type": "execute_result",
          "data": {
            "text/html": [
              "<div>\n",
              "<style scoped>\n",
              "    .dataframe tbody tr th:only-of-type {\n",
              "        vertical-align: middle;\n",
              "    }\n",
              "\n",
              "    .dataframe tbody tr th {\n",
              "        vertical-align: top;\n",
              "    }\n",
              "\n",
              "    .dataframe thead th {\n",
              "        text-align: right;\n",
              "    }\n",
              "</style>\n",
              "<table border=\"1\" class=\"dataframe\">\n",
              "  <thead>\n",
              "    <tr style=\"text-align: right;\">\n",
              "      <th></th>\n",
              "      <th>movieId</th>\n",
              "      <th>title</th>\n",
              "      <th>genres</th>\n",
              "      <th>year</th>\n",
              "    </tr>\n",
              "  </thead>\n",
              "  <tbody>\n",
              "    <tr>\n",
              "      <th>9698</th>\n",
              "      <td>184997</td>\n",
              "      <td>Love, Simon (2018)</td>\n",
              "      <td>Comedy|Drama</td>\n",
              "      <td>2018.0</td>\n",
              "    </tr>\n",
              "    <tr>\n",
              "      <th>9701</th>\n",
              "      <td>185033</td>\n",
              "      <td>I Kill Giants (2018)</td>\n",
              "      <td>Drama|Fantasy|Thriller</td>\n",
              "      <td>2018.0</td>\n",
              "    </tr>\n",
              "    <tr>\n",
              "      <th>9686</th>\n",
              "      <td>184015</td>\n",
              "      <td>When We First Met (2018)</td>\n",
              "      <td>Comedy</td>\n",
              "      <td>2018.0</td>\n",
              "    </tr>\n",
              "    <tr>\n",
              "      <th>9712</th>\n",
              "      <td>188189</td>\n",
              "      <td>Sorry to Bother You (2018)</td>\n",
              "      <td>Comedy|Fantasy|Sci-Fi</td>\n",
              "      <td>2018.0</td>\n",
              "    </tr>\n",
              "    <tr>\n",
              "      <th>9711</th>\n",
              "      <td>187717</td>\n",
              "      <td>Won't You Be My Neighbor? (2018)</td>\n",
              "      <td>Documentary</td>\n",
              "      <td>2018.0</td>\n",
              "    </tr>\n",
              "    <tr>\n",
              "      <th>...</th>\n",
              "      <td>...</td>\n",
              "      <td>...</td>\n",
              "      <td>...</td>\n",
              "      <td>...</td>\n",
              "    </tr>\n",
              "    <tr>\n",
              "      <th>9514</th>\n",
              "      <td>171495</td>\n",
              "      <td>Cosmos</td>\n",
              "      <td>(no genres listed)</td>\n",
              "      <td>NaN</td>\n",
              "    </tr>\n",
              "    <tr>\n",
              "      <th>9515</th>\n",
              "      <td>171631</td>\n",
              "      <td>Maria Bamford: Old Baby</td>\n",
              "      <td>(no genres listed)</td>\n",
              "      <td>NaN</td>\n",
              "    </tr>\n",
              "    <tr>\n",
              "      <th>9518</th>\n",
              "      <td>171749</td>\n",
              "      <td>Death Note: Desu nôto (2006–2007)</td>\n",
              "      <td>(no genres listed)</td>\n",
              "      <td>NaN</td>\n",
              "    </tr>\n",
              "    <tr>\n",
              "      <th>9525</th>\n",
              "      <td>171891</td>\n",
              "      <td>Generation Iron 2</td>\n",
              "      <td>(no genres listed)</td>\n",
              "      <td>NaN</td>\n",
              "    </tr>\n",
              "    <tr>\n",
              "      <th>9611</th>\n",
              "      <td>176601</td>\n",
              "      <td>Black Mirror</td>\n",
              "      <td>(no genres listed)</td>\n",
              "      <td>NaN</td>\n",
              "    </tr>\n",
              "  </tbody>\n",
              "</table>\n",
              "<p>9742 rows × 4 columns</p>\n",
              "</div>"
            ],
            "text/plain": [
              "      movieId  ...    year\n",
              "9698   184997  ...  2018.0\n",
              "9701   185033  ...  2018.0\n",
              "9686   184015  ...  2018.0\n",
              "9712   188189  ...  2018.0\n",
              "9711   187717  ...  2018.0\n",
              "...       ...  ...     ...\n",
              "9514   171495  ...     NaN\n",
              "9515   171631  ...     NaN\n",
              "9518   171749  ...     NaN\n",
              "9525   171891  ...     NaN\n",
              "9611   176601  ...     NaN\n",
              "\n",
              "[9742 rows x 4 columns]"
            ]
          },
          "metadata": {},
          "execution_count": 19
        }
      ]
    },
    {
      "cell_type": "code",
      "metadata": {
        "id": "b0yQSm_kgF0h",
        "colab": {
          "base_uri": "https://localhost:8080/",
          "height": 359
        },
        "outputId": "f516e751-e1c5-4e41-8ff0-e470424fadd2"
      },
      "source": [
        "#Memvisualisasikan tahun\n",
        "plt.figure(figsize=(20,8))\n",
        "sns.histplot(data = df_movie, x = 'year', bins = 200)\n",
        "plt.show()"
      ],
      "execution_count": 20,
      "outputs": [
        {
          "output_type": "display_data",
          "data": {
            "image/png": "[encoded data removed]",
            "text/plain": [
              "<Figure size 1440x576 with 1 Axes>"
            ]
          },
          "metadata": {
            "needs_background": "light"
          }
        }
      ]
    },
    {
      "cell_type": "code",
      "metadata": {
        "id": "-j8RXT7Z-nq_",
        "colab": {
          "base_uri": "https://localhost:8080/",
          "height": 881
        },
        "outputId": "5da38d97-3b0b-4712-98c0-7610a5751bb5"
      },
      "source": [
        "# Mengambil column genres dan melakukan encoding\n",
        "genres = []\n",
        "for i in range(len(df_movie.genres)):\n",
        "  for x in df_movie.genres[i].split('|'):\n",
        "    if x not in genres:\n",
        "      genres.append(x)\n",
        "\n",
        "len(genres)\n",
        "for x in genres:\n",
        "    df_movie[x] = 0\n",
        "for i in range(len(df_movie.genres)):\n",
        "    for x in df_movie.genres[i].split('|'):\n",
        "        df_movie[x][i]=1\n",
        "\n",
        "df_movie"
      ],
      "execution_count": 21,
      "outputs": [
        {
          "output_type": "stream",
          "name": "stderr",
          "text": [
            "/usr/local/lib/python3.7/dist-packages/ipykernel_launcher.py:13: SettingWithCopyWarning: \n",
            "A value is trying to be set on a copy of a slice from a DataFrame\n",
            "\n",
            "See the caveats in the documentation: https://pandas.pydata.org/pandas-docs/stable/user_guide/indexing.html#returning-a-view-versus-a-copy\n",
            "  del sys.path[0]\n"
          ]
        },
        {
          "output_type": "execute_result",
          "data": {
            "text/html": [
              "<div>\n",
              "<style scoped>\n",
              "    .dataframe tbody tr th:only-of-type {\n",
              "        vertical-align: middle;\n",
              "    }\n",
              "\n",
              "    .dataframe tbody tr th {\n",
              "        vertical-align: top;\n",
              "    }\n",
              "\n",
              "    .dataframe thead th {\n",
              "        text-align: right;\n",
              "    }\n",
              "</style>\n",
              "<table border=\"1\" class=\"dataframe\">\n",
              "  <thead>\n",
              "    <tr style=\"text-align: right;\">\n",
              "      <th></th>\n",
              "      <th>movieId</th>\n",
              "      <th>title</th>\n",
              "      <th>genres</th>\n",
              "      <th>year</th>\n",
              "      <th>Adventure</th>\n",
              "      <th>Animation</th>\n",
              "      <th>Children</th>\n",
              "      <th>Comedy</th>\n",
              "      <th>Fantasy</th>\n",
              "      <th>Romance</th>\n",
              "      <th>Drama</th>\n",
              "      <th>Action</th>\n",
              "      <th>Crime</th>\n",
              "      <th>Thriller</th>\n",
              "      <th>Horror</th>\n",
              "      <th>Mystery</th>\n",
              "      <th>Sci-Fi</th>\n",
              "      <th>War</th>\n",
              "      <th>Musical</th>\n",
              "      <th>Documentary</th>\n",
              "      <th>IMAX</th>\n",
              "      <th>Western</th>\n",
              "      <th>Film-Noir</th>\n",
              "      <th>(no genres listed)</th>\n",
              "    </tr>\n",
              "  </thead>\n",
              "  <tbody>\n",
              "    <tr>\n",
              "      <th>9698</th>\n",
              "      <td>184997</td>\n",
              "      <td>Love, Simon (2018)</td>\n",
              "      <td>Comedy|Drama</td>\n",
              "      <td>2018.0</td>\n",
              "      <td>0</td>\n",
              "      <td>0</td>\n",
              "      <td>0</td>\n",
              "      <td>1</td>\n",
              "      <td>0</td>\n",
              "      <td>0</td>\n",
              "      <td>1</td>\n",
              "      <td>0</td>\n",
              "      <td>0</td>\n",
              "      <td>0</td>\n",
              "      <td>0</td>\n",
              "      <td>0</td>\n",
              "      <td>0</td>\n",
              "      <td>0</td>\n",
              "      <td>0</td>\n",
              "      <td>0</td>\n",
              "      <td>0</td>\n",
              "      <td>0</td>\n",
              "      <td>0</td>\n",
              "      <td>0</td>\n",
              "    </tr>\n",
              "    <tr>\n",
              "      <th>9701</th>\n",
              "      <td>185033</td>\n",
              "      <td>I Kill Giants (2018)</td>\n",
              "      <td>Drama|Fantasy|Thriller</td>\n",
              "      <td>2018.0</td>\n",
              "      <td>0</td>\n",
              "      <td>0</td>\n",
              "      <td>0</td>\n",
              "      <td>0</td>\n",
              "      <td>1</td>\n",
              "      <td>0</td>\n",
              "      <td>1</td>\n",
              "      <td>0</td>\n",
              "      <td>0</td>\n",
              "      <td>1</td>\n",
              "      <td>0</td>\n",
              "      <td>0</td>\n",
              "      <td>0</td>\n",
              "      <td>0</td>\n",
              "      <td>0</td>\n",
              "      <td>0</td>\n",
              "      <td>0</td>\n",
              "      <td>0</td>\n",
              "      <td>0</td>\n",
              "      <td>0</td>\n",
              "    </tr>\n",
              "    <tr>\n",
              "      <th>9686</th>\n",
              "      <td>184015</td>\n",
              "      <td>When We First Met (2018)</td>\n",
              "      <td>Comedy</td>\n",
              "      <td>2018.0</td>\n",
              "      <td>0</td>\n",
              "      <td>0</td>\n",
              "      <td>0</td>\n",
              "      <td>1</td>\n",
              "      <td>0</td>\n",
              "      <td>0</td>\n",
              "      <td>0</td>\n",
              "      <td>0</td>\n",
              "      <td>0</td>\n",
              "      <td>0</td>\n",
              "      <td>0</td>\n",
              "      <td>0</td>\n",
              "      <td>0</td>\n",
              "      <td>0</td>\n",
              "      <td>0</td>\n",
              "      <td>0</td>\n",
              "      <td>0</td>\n",
              "      <td>0</td>\n",
              "      <td>0</td>\n",
              "      <td>0</td>\n",
              "    </tr>\n",
              "    <tr>\n",
              "      <th>9712</th>\n",
              "      <td>188189</td>\n",
              "      <td>Sorry to Bother You (2018)</td>\n",
              "      <td>Comedy|Fantasy|Sci-Fi</td>\n",
              "      <td>2018.0</td>\n",
              "      <td>0</td>\n",
              "      <td>0</td>\n",
              "      <td>0</td>\n",
              "      <td>1</td>\n",
              "      <td>1</td>\n",
              "      <td>0</td>\n",
              "      <td>0</td>\n",
              "      <td>0</td>\n",
              "      <td>0</td>\n",
              "      <td>0</td>\n",
              "      <td>0</td>\n",
              "      <td>0</td>\n",
              "      <td>1</td>\n",
              "      <td>0</td>\n",
              "      <td>0</td>\n",
              "      <td>0</td>\n",
              "      <td>0</td>\n",
              "      <td>0</td>\n",
              "      <td>0</td>\n",
              "      <td>0</td>\n",
              "    </tr>\n",
              "    <tr>\n",
              "      <th>9711</th>\n",
              "      <td>187717</td>\n",
              "      <td>Won't You Be My Neighbor? (2018)</td>\n",
              "      <td>Documentary</td>\n",
              "      <td>2018.0</td>\n",
              "      <td>0</td>\n",
              "      <td>0</td>\n",
              "      <td>0</td>\n",
              "      <td>0</td>\n",
              "      <td>0</td>\n",
              "      <td>0</td>\n",
              "      <td>0</td>\n",
              "      <td>0</td>\n",
              "      <td>0</td>\n",
              "      <td>0</td>\n",
              "      <td>0</td>\n",
              "      <td>0</td>\n",
              "      <td>0</td>\n",
              "      <td>0</td>\n",
              "      <td>0</td>\n",
              "      <td>1</td>\n",
              "      <td>0</td>\n",
              "      <td>0</td>\n",
              "      <td>0</td>\n",
              "      <td>0</td>\n",
              "    </tr>\n",
              "    <tr>\n",
              "      <th>...</th>\n",
              "      <td>...</td>\n",
              "      <td>...</td>\n",
              "      <td>...</td>\n",
              "      <td>...</td>\n",
              "      <td>...</td>\n",
              "      <td>...</td>\n",
              "      <td>...</td>\n",
              "      <td>...</td>\n",
              "      <td>...</td>\n",
              "      <td>...</td>\n",
              "      <td>...</td>\n",
              "      <td>...</td>\n",
              "      <td>...</td>\n",
              "      <td>...</td>\n",
              "      <td>...</td>\n",
              "      <td>...</td>\n",
              "      <td>...</td>\n",
              "      <td>...</td>\n",
              "      <td>...</td>\n",
              "      <td>...</td>\n",
              "      <td>...</td>\n",
              "      <td>...</td>\n",
              "      <td>...</td>\n",
              "      <td>...</td>\n",
              "    </tr>\n",
              "    <tr>\n",
              "      <th>9514</th>\n",
              "      <td>171495</td>\n",
              "      <td>Cosmos</td>\n",
              "      <td>(no genres listed)</td>\n",
              "      <td>NaN</td>\n",
              "      <td>0</td>\n",
              "      <td>0</td>\n",
              "      <td>0</td>\n",
              "      <td>0</td>\n",
              "      <td>0</td>\n",
              "      <td>0</td>\n",
              "      <td>0</td>\n",
              "      <td>0</td>\n",
              "      <td>0</td>\n",
              "      <td>0</td>\n",
              "      <td>0</td>\n",
              "      <td>0</td>\n",
              "      <td>0</td>\n",
              "      <td>0</td>\n",
              "      <td>0</td>\n",
              "      <td>0</td>\n",
              "      <td>0</td>\n",
              "      <td>0</td>\n",
              "      <td>0</td>\n",
              "      <td>1</td>\n",
              "    </tr>\n",
              "    <tr>\n",
              "      <th>9515</th>\n",
              "      <td>171631</td>\n",
              "      <td>Maria Bamford: Old Baby</td>\n",
              "      <td>(no genres listed)</td>\n",
              "      <td>NaN</td>\n",
              "      <td>0</td>\n",
              "      <td>0</td>\n",
              "      <td>0</td>\n",
              "      <td>0</td>\n",
              "      <td>0</td>\n",
              "      <td>0</td>\n",
              "      <td>0</td>\n",
              "      <td>0</td>\n",
              "      <td>0</td>\n",
              "      <td>0</td>\n",
              "      <td>0</td>\n",
              "      <td>0</td>\n",
              "      <td>0</td>\n",
              "      <td>0</td>\n",
              "      <td>0</td>\n",
              "      <td>0</td>\n",
              "      <td>0</td>\n",
              "      <td>0</td>\n",
              "      <td>0</td>\n",
              "      <td>1</td>\n",
              "    </tr>\n",
              "    <tr>\n",
              "      <th>9518</th>\n",
              "      <td>171749</td>\n",
              "      <td>Death Note: Desu nôto (2006–2007)</td>\n",
              "      <td>(no genres listed)</td>\n",
              "      <td>NaN</td>\n",
              "      <td>0</td>\n",
              "      <td>0</td>\n",
              "      <td>0</td>\n",
              "      <td>0</td>\n",
              "      <td>0</td>\n",
              "      <td>0</td>\n",
              "      <td>0</td>\n",
              "      <td>0</td>\n",
              "      <td>0</td>\n",
              "      <td>0</td>\n",
              "      <td>0</td>\n",
              "      <td>0</td>\n",
              "      <td>0</td>\n",
              "      <td>0</td>\n",
              "      <td>0</td>\n",
              "      <td>0</td>\n",
              "      <td>0</td>\n",
              "      <td>0</td>\n",
              "      <td>0</td>\n",
              "      <td>1</td>\n",
              "    </tr>\n",
              "    <tr>\n",
              "      <th>9525</th>\n",
              "      <td>171891</td>\n",
              "      <td>Generation Iron 2</td>\n",
              "      <td>(no genres listed)</td>\n",
              "      <td>NaN</td>\n",
              "      <td>0</td>\n",
              "      <td>0</td>\n",
              "      <td>0</td>\n",
              "      <td>0</td>\n",
              "      <td>0</td>\n",
              "      <td>0</td>\n",
              "      <td>0</td>\n",
              "      <td>0</td>\n",
              "      <td>0</td>\n",
              "      <td>0</td>\n",
              "      <td>0</td>\n",
              "      <td>0</td>\n",
              "      <td>0</td>\n",
              "      <td>0</td>\n",
              "      <td>0</td>\n",
              "      <td>0</td>\n",
              "      <td>0</td>\n",
              "      <td>0</td>\n",
              "      <td>0</td>\n",
              "      <td>1</td>\n",
              "    </tr>\n",
              "    <tr>\n",
              "      <th>9611</th>\n",
              "      <td>176601</td>\n",
              "      <td>Black Mirror</td>\n",
              "      <td>(no genres listed)</td>\n",
              "      <td>NaN</td>\n",
              "      <td>0</td>\n",
              "      <td>0</td>\n",
              "      <td>0</td>\n",
              "      <td>0</td>\n",
              "      <td>0</td>\n",
              "      <td>0</td>\n",
              "      <td>0</td>\n",
              "      <td>0</td>\n",
              "      <td>0</td>\n",
              "      <td>0</td>\n",
              "      <td>0</td>\n",
              "      <td>0</td>\n",
              "      <td>0</td>\n",
              "      <td>0</td>\n",
              "      <td>0</td>\n",
              "      <td>0</td>\n",
              "      <td>0</td>\n",
              "      <td>0</td>\n",
              "      <td>0</td>\n",
              "      <td>1</td>\n",
              "    </tr>\n",
              "  </tbody>\n",
              "</table>\n",
              "<p>9742 rows × 24 columns</p>\n",
              "</div>"
            ],
            "text/plain": [
              "      movieId                              title  ... Film-Noir  (no genres listed)\n",
              "9698   184997                 Love, Simon (2018)  ...         0                   0\n",
              "9701   185033               I Kill Giants (2018)  ...         0                   0\n",
              "9686   184015           When We First Met (2018)  ...         0                   0\n",
              "9712   188189         Sorry to Bother You (2018)  ...         0                   0\n",
              "9711   187717   Won't You Be My Neighbor? (2018)  ...         0                   0\n",
              "...       ...                                ...  ...       ...                 ...\n",
              "9514   171495                             Cosmos  ...         0                   1\n",
              "9515   171631            Maria Bamford: Old Baby  ...         0                   1\n",
              "9518   171749  Death Note: Desu nôto (2006–2007)  ...         0                   1\n",
              "9525   171891                  Generation Iron 2  ...         0                   1\n",
              "9611   176601                       Black Mirror  ...         0                   1\n",
              "\n",
              "[9742 rows x 24 columns]"
            ]
          },
          "metadata": {},
          "execution_count": 21
        }
      ]
    },
    {
      "cell_type": "code",
      "metadata": {
        "id": "uzv48Rj3GeuI",
        "colab": {
          "base_uri": "https://localhost:8080/"
        },
        "outputId": "d2d5db8f-8e7e-482f-92b1-e56ab667e193"
      },
      "source": [
        "#memvisualisasikan genre\n",
        "genre_visualization = df_movie.drop('year', axis = 1)\n",
        "genre_visualization = genre_visualization.iloc[:,3:].sum().reset_index()\n",
        "genre_visualization.columns = ['genre','total'] \n",
        "print(genre_visualization)\n",
        "print('\\n')\n",
        "print(genres)"
      ],
      "execution_count": 22,
      "outputs": [
        {
          "output_type": "stream",
          "name": "stdout",
          "text": [
            "                 genre  total\n",
            "0            Adventure   1263\n",
            "1            Animation    611\n",
            "2             Children    664\n",
            "3               Comedy   3756\n",
            "4              Fantasy    779\n",
            "5              Romance   1596\n",
            "6                Drama   4361\n",
            "7               Action   1828\n",
            "8                Crime   1199\n",
            "9             Thriller   1894\n",
            "10              Horror    978\n",
            "11             Mystery    573\n",
            "12              Sci-Fi    980\n",
            "13                 War    382\n",
            "14             Musical    334\n",
            "15         Documentary    440\n",
            "16                IMAX    158\n",
            "17             Western    167\n",
            "18           Film-Noir     87\n",
            "19  (no genres listed)     34\n",
            "\n",
            "\n",
            "['Adventure', 'Animation', 'Children', 'Comedy', 'Fantasy', 'Romance', 'Drama', 'Action', 'Crime', 'Thriller', 'Horror', 'Mystery', 'Sci-Fi', 'War', 'Musical', 'Documentary', 'IMAX', 'Western', 'Film-Noir', '(no genres listed)']\n"
          ]
        }
      ]
    },
    {
      "cell_type": "code",
      "metadata": {
        "id": "KrJ1vg1ALuAI",
        "colab": {
          "base_uri": "https://localhost:8080/",
          "height": 483
        },
        "outputId": "b7028d0c-4f65-43d0-ef60-20d1b551fffe"
      },
      "source": [
        "#Masih memvisualisasikan Genre\n",
        "plt.figure(figsize=(12,6))\n",
        "sns.barplot(x = 'genre', y = 'total', data = genre_visualization, palette = 'Set3')\n",
        "plt.xticks(rotation = 90)\n",
        "plt.plot"
      ],
      "execution_count": 23,
      "outputs": [
        {
          "output_type": "execute_result",
          "data": {
            "text/plain": [
              "<function matplotlib.pyplot.plot>"
            ]
          },
          "metadata": {},
          "execution_count": 23
        },
        {
          "output_type": "display_data",
          "data": {
            "image/png": "[encoded data removed]",
            "text/plain": [
              "<Figure size 864x432 with 1 Axes>"
            ]
          },
          "metadata": {
            "needs_background": "light"
          }
        }
      ]
    },
    {
      "cell_type": "code",
      "metadata": {
        "id": "98YWexKkMBSx",
        "colab": {
          "base_uri": "https://localhost:8080/",
          "height": 419
        },
        "outputId": "11d85232-2883-4b25-f281-e6ee4b57775c"
      },
      "source": [
        "#Menggabungkan dua dataframe untuk visualisasi rating tertinggi per title\n",
        "data = pd.merge(df_movie, df_rating, on = 'movieId')\n",
        "data = data.drop(genres, axis = 1)\n",
        "data"
      ],
      "execution_count": 24,
      "outputs": [
        {
          "output_type": "execute_result",
          "data": {
            "text/html": [
              "<div>\n",
              "<style scoped>\n",
              "    .dataframe tbody tr th:only-of-type {\n",
              "        vertical-align: middle;\n",
              "    }\n",
              "\n",
              "    .dataframe tbody tr th {\n",
              "        vertical-align: top;\n",
              "    }\n",
              "\n",
              "    .dataframe thead th {\n",
              "        text-align: right;\n",
              "    }\n",
              "</style>\n",
              "<table border=\"1\" class=\"dataframe\">\n",
              "  <thead>\n",
              "    <tr style=\"text-align: right;\">\n",
              "      <th></th>\n",
              "      <th>movieId</th>\n",
              "      <th>title</th>\n",
              "      <th>genres</th>\n",
              "      <th>year</th>\n",
              "      <th>userId</th>\n",
              "      <th>rating</th>\n",
              "      <th>timestamp</th>\n",
              "    </tr>\n",
              "  </thead>\n",
              "  <tbody>\n",
              "    <tr>\n",
              "      <th>0</th>\n",
              "      <td>184997</td>\n",
              "      <td>Love, Simon (2018)</td>\n",
              "      <td>Comedy|Drama</td>\n",
              "      <td>2018.0</td>\n",
              "      <td>596</td>\n",
              "      <td>4.0</td>\n",
              "      <td>1535828629</td>\n",
              "    </tr>\n",
              "    <tr>\n",
              "      <th>1</th>\n",
              "      <td>185033</td>\n",
              "      <td>I Kill Giants (2018)</td>\n",
              "      <td>Drama|Fantasy|Thriller</td>\n",
              "      <td>2018.0</td>\n",
              "      <td>514</td>\n",
              "      <td>2.0</td>\n",
              "      <td>1533947134</td>\n",
              "    </tr>\n",
              "    <tr>\n",
              "      <th>2</th>\n",
              "      <td>184015</td>\n",
              "      <td>When We First Met (2018)</td>\n",
              "      <td>Comedy</td>\n",
              "      <td>2018.0</td>\n",
              "      <td>111</td>\n",
              "      <td>3.5</td>\n",
              "      <td>1518640587</td>\n",
              "    </tr>\n",
              "    <tr>\n",
              "      <th>3</th>\n",
              "      <td>184015</td>\n",
              "      <td>When We First Met (2018)</td>\n",
              "      <td>Comedy</td>\n",
              "      <td>2018.0</td>\n",
              "      <td>249</td>\n",
              "      <td>3.5</td>\n",
              "      <td>1518883048</td>\n",
              "    </tr>\n",
              "    <tr>\n",
              "      <th>4</th>\n",
              "      <td>188189</td>\n",
              "      <td>Sorry to Bother You (2018)</td>\n",
              "      <td>Comedy|Fantasy|Sci-Fi</td>\n",
              "      <td>2018.0</td>\n",
              "      <td>462</td>\n",
              "      <td>4.5</td>\n",
              "      <td>1533519140</td>\n",
              "    </tr>\n",
              "    <tr>\n",
              "      <th>...</th>\n",
              "      <td>...</td>\n",
              "      <td>...</td>\n",
              "      <td>...</td>\n",
              "      <td>...</td>\n",
              "      <td>...</td>\n",
              "      <td>...</td>\n",
              "      <td>...</td>\n",
              "    </tr>\n",
              "    <tr>\n",
              "      <th>100831</th>\n",
              "      <td>171495</td>\n",
              "      <td>Cosmos</td>\n",
              "      <td>(no genres listed)</td>\n",
              "      <td>NaN</td>\n",
              "      <td>599</td>\n",
              "      <td>4.0</td>\n",
              "      <td>1519116912</td>\n",
              "    </tr>\n",
              "    <tr>\n",
              "      <th>100832</th>\n",
              "      <td>171631</td>\n",
              "      <td>Maria Bamford: Old Baby</td>\n",
              "      <td>(no genres listed)</td>\n",
              "      <td>NaN</td>\n",
              "      <td>111</td>\n",
              "      <td>1.0</td>\n",
              "      <td>1517440909</td>\n",
              "    </tr>\n",
              "    <tr>\n",
              "      <th>100833</th>\n",
              "      <td>171749</td>\n",
              "      <td>Death Note: Desu nôto (2006–2007)</td>\n",
              "      <td>(no genres listed)</td>\n",
              "      <td>NaN</td>\n",
              "      <td>105</td>\n",
              "      <td>5.0</td>\n",
              "      <td>1526207365</td>\n",
              "    </tr>\n",
              "    <tr>\n",
              "      <th>100834</th>\n",
              "      <td>171891</td>\n",
              "      <td>Generation Iron 2</td>\n",
              "      <td>(no genres listed)</td>\n",
              "      <td>NaN</td>\n",
              "      <td>111</td>\n",
              "      <td>3.5</td>\n",
              "      <td>1517440199</td>\n",
              "    </tr>\n",
              "    <tr>\n",
              "      <th>100835</th>\n",
              "      <td>176601</td>\n",
              "      <td>Black Mirror</td>\n",
              "      <td>(no genres listed)</td>\n",
              "      <td>NaN</td>\n",
              "      <td>62</td>\n",
              "      <td>5.0</td>\n",
              "      <td>1525795252</td>\n",
              "    </tr>\n",
              "  </tbody>\n",
              "</table>\n",
              "<p>100836 rows × 7 columns</p>\n",
              "</div>"
            ],
            "text/plain": [
              "        movieId                              title  ... rating   timestamp\n",
              "0        184997                 Love, Simon (2018)  ...    4.0  1535828629\n",
              "1        185033               I Kill Giants (2018)  ...    2.0  1533947134\n",
              "2        184015           When We First Met (2018)  ...    3.5  1518640587\n",
              "3        184015           When We First Met (2018)  ...    3.5  1518883048\n",
              "4        188189         Sorry to Bother You (2018)  ...    4.5  1533519140\n",
              "...         ...                                ...  ...    ...         ...\n",
              "100831   171495                             Cosmos  ...    4.0  1519116912\n",
              "100832   171631            Maria Bamford: Old Baby  ...    1.0  1517440909\n",
              "100833   171749  Death Note: Desu nôto (2006–2007)  ...    5.0  1526207365\n",
              "100834   171891                  Generation Iron 2  ...    3.5  1517440199\n",
              "100835   176601                       Black Mirror  ...    5.0  1525795252\n",
              "\n",
              "[100836 rows x 7 columns]"
            ]
          },
          "metadata": {},
          "execution_count": 24
        }
      ]
    },
    {
      "cell_type": "code",
      "metadata": {
        "id": "N_KLbhU2QuyY",
        "colab": {
          "base_uri": "https://localhost:8080/",
          "height": 359
        },
        "outputId": "e06dfa08-90b1-4d22-8d1f-26d3a8e7a325"
      },
      "source": [
        "# Melihat rating per-title tertinggi\n",
        "visualisasi = data.groupby('title')['rating'].count().reset_index().rename(columns = {'rating': 'total_rating'})\n",
        "visualisasi = visualisasi.sort_values(by = 'total_rating', ascending = False)\n",
        "visualisasi.head(10)"
      ],
      "execution_count": 25,
      "outputs": [
        {
          "output_type": "execute_result",
          "data": {
            "text/html": [
              "<div>\n",
              "<style scoped>\n",
              "    .dataframe tbody tr th:only-of-type {\n",
              "        vertical-align: middle;\n",
              "    }\n",
              "\n",
              "    .dataframe tbody tr th {\n",
              "        vertical-align: top;\n",
              "    }\n",
              "\n",
              "    .dataframe thead th {\n",
              "        text-align: right;\n",
              "    }\n",
              "</style>\n",
              "<table border=\"1\" class=\"dataframe\">\n",
              "  <thead>\n",
              "    <tr style=\"text-align: right;\">\n",
              "      <th></th>\n",
              "      <th>title</th>\n",
              "      <th>total_rating</th>\n",
              "    </tr>\n",
              "  </thead>\n",
              "  <tbody>\n",
              "    <tr>\n",
              "      <th>3158</th>\n",
              "      <td>Forrest Gump (1994)</td>\n",
              "      <td>329</td>\n",
              "    </tr>\n",
              "    <tr>\n",
              "      <th>7593</th>\n",
              "      <td>Shawshank Redemption, The (1994)</td>\n",
              "      <td>317</td>\n",
              "    </tr>\n",
              "    <tr>\n",
              "      <th>6865</th>\n",
              "      <td>Pulp Fiction (1994)</td>\n",
              "      <td>307</td>\n",
              "    </tr>\n",
              "    <tr>\n",
              "      <th>7680</th>\n",
              "      <td>Silence of the Lambs, The (1991)</td>\n",
              "      <td>279</td>\n",
              "    </tr>\n",
              "    <tr>\n",
              "      <th>5512</th>\n",
              "      <td>Matrix, The (1999)</td>\n",
              "      <td>278</td>\n",
              "    </tr>\n",
              "    <tr>\n",
              "      <th>8001</th>\n",
              "      <td>Star Wars: Episode IV - A New Hope (1977)</td>\n",
              "      <td>251</td>\n",
              "    </tr>\n",
              "    <tr>\n",
              "      <th>4662</th>\n",
              "      <td>Jurassic Park (1993)</td>\n",
              "      <td>238</td>\n",
              "    </tr>\n",
              "    <tr>\n",
              "      <th>1337</th>\n",
              "      <td>Braveheart (1995)</td>\n",
              "      <td>237</td>\n",
              "    </tr>\n",
              "    <tr>\n",
              "      <th>8363</th>\n",
              "      <td>Terminator 2: Judgment Day (1991)</td>\n",
              "      <td>224</td>\n",
              "    </tr>\n",
              "    <tr>\n",
              "      <th>7421</th>\n",
              "      <td>Schindler's List (1993)</td>\n",
              "      <td>220</td>\n",
              "    </tr>\n",
              "  </tbody>\n",
              "</table>\n",
              "</div>"
            ],
            "text/plain": [
              "                                          title  total_rating\n",
              "3158                        Forrest Gump (1994)           329\n",
              "7593           Shawshank Redemption, The (1994)           317\n",
              "6865                        Pulp Fiction (1994)           307\n",
              "7680           Silence of the Lambs, The (1991)           279\n",
              "5512                         Matrix, The (1999)           278\n",
              "8001  Star Wars: Episode IV - A New Hope (1977)           251\n",
              "4662                       Jurassic Park (1993)           238\n",
              "1337                          Braveheart (1995)           237\n",
              "8363          Terminator 2: Judgment Day (1991)           224\n",
              "7421                    Schindler's List (1993)           220"
            ]
          },
          "metadata": {},
          "execution_count": 25
        }
      ]
    },
    {
      "cell_type": "code",
      "metadata": {
        "id": "T6cTnW-8Tbbc",
        "colab": {
          "base_uri": "https://localhost:8080/",
          "height": 609
        },
        "outputId": "aad82a82-aa89-4c3c-df7f-870ec98f74fb"
      },
      "source": [
        "#visualisasi 10 titel dengan rating terbanyak\n",
        "plt.figure(figsize=(12,6))\n",
        "sns.barplot(x = 'title', y = 'total_rating', data = visualisasi.iloc[:10,:], palette = \"Set3\")\n",
        "plt.xticks(rotation = 90)\n",
        "plt.plot"
      ],
      "execution_count": 26,
      "outputs": [
        {
          "output_type": "execute_result",
          "data": {
            "text/plain": [
              "<function matplotlib.pyplot.plot>"
            ]
          },
          "metadata": {},
          "execution_count": 26
        },
        {
          "output_type": "display_data",
          "data": {
            "image/png": "[encoded data removed]",
            "text/plain": [
              "<Figure size 864x432 with 1 Axes>"
            ]
          },
          "metadata": {
            "needs_background": "light"
          }
        }
      ]
    },
    {
      "cell_type": "code",
      "metadata": {
        "id": "eK7ywpb_hkwv",
        "colab": {
          "base_uri": "https://localhost:8080/",
          "height": 287
        },
        "outputId": "4b468e8d-ad21-4e83-d892-d8ae3489658d"
      },
      "source": [
        "# Visualisasi rating dari rating dataframe\n",
        "rating = df_rating['rating'].value_counts()\n",
        "rating.plot(kind = 'bar', title = \"Rating\")\n",
        "plt.show()"
      ],
      "execution_count": 27,
      "outputs": [
        {
          "output_type": "display_data",
          "data": {
            "image/png": "[encoded data removed]",
            "text/plain": [
              "<Figure size 432x288 with 1 Axes>"
            ]
          },
          "metadata": {
            "needs_background": "light"
          }
        }
      ]
    },
    {
      "cell_type": "markdown",
      "metadata": {
        "id": "jny1BmLjTudO"
      },
      "source": [
        "## Data Preparation\n",
        "\n",
        "Hal yang akan digunakan untuk data preparation ini adalah#\n",
        "1. Mengecek dan menghilangkan data duplikat\n",
        "2. Menghilangkan data Null\n",
        "3. Menghilangkan variabel yang tidak dibutuhkan lagi\n",
        "4. Preparation for Cosine Similarity\n",
        "5. Preparation for Deep Learning"
      ]
    },
    {
      "cell_type": "code",
      "metadata": {
        "id": "TRvRcTiI-xeR",
        "colab": {
          "base_uri": "https://localhost:8080/"
        },
        "outputId": "6ed44ae6-fbb8-4f75-d6e3-e2de2a0de82d"
      },
      "source": [
        "#Cek data duplikat\n",
        "print(df_movie[df_movie.duplicated()])\n",
        "print(df_rating[df_rating.duplicated()])\n",
        "print(df_tags[df_tags.duplicated()])\n",
        "print(df_links[df_links.duplicated()])"
      ],
      "execution_count": 28,
      "outputs": [
        {
          "output_type": "stream",
          "name": "stdout",
          "text": [
            "Empty DataFrame\n",
            "Columns: [movieId, title, genres, year, Adventure, Animation, Children, Comedy, Fantasy, Romance, Drama, Action, Crime, Thriller, Horror, Mystery, Sci-Fi, War, Musical, Documentary, IMAX, Western, Film-Noir, (no genres listed)]\n",
            "Index: []\n",
            "Empty DataFrame\n",
            "Columns: [userId, movieId, rating, timestamp]\n",
            "Index: []\n",
            "Empty DataFrame\n",
            "Columns: [userId, movieId, tag, timestamp]\n",
            "Index: []\n",
            "Empty DataFrame\n",
            "Columns: [movieId, imdbId, tmdbId]\n",
            "Index: []\n"
          ]
        }
      ]
    },
    {
      "cell_type": "code",
      "metadata": {
        "id": "_bRzHUSlWggO",
        "colab": {
          "base_uri": "https://localhost:8080/"
        },
        "outputId": "b6d237b9-b0e9-49c0-c88e-646091a12a4a"
      },
      "source": [
        "#Cek data null\n",
        "print(df_movie.isnull().sum())\n",
        "print('\\n')\n",
        "print(df_rating.isnull().sum())\n",
        "print('\\n')\n",
        "print(df_tags.isnull().sum())\n",
        "print('\\n')\n",
        "print(df_links.isnull().sum())"
      ],
      "execution_count": 29,
      "outputs": [
        {
          "output_type": "stream",
          "name": "stdout",
          "text": [
            "movieId                0\n",
            "title                  0\n",
            "genres                 0\n",
            "year                  13\n",
            "Adventure              0\n",
            "Animation              0\n",
            "Children               0\n",
            "Comedy                 0\n",
            "Fantasy                0\n",
            "Romance                0\n",
            "Drama                  0\n",
            "Action                 0\n",
            "Crime                  0\n",
            "Thriller               0\n",
            "Horror                 0\n",
            "Mystery                0\n",
            "Sci-Fi                 0\n",
            "War                    0\n",
            "Musical                0\n",
            "Documentary            0\n",
            "IMAX                   0\n",
            "Western                0\n",
            "Film-Noir              0\n",
            "(no genres listed)     0\n",
            "dtype: int64\n",
            "\n",
            "\n",
            "userId       0\n",
            "movieId      0\n",
            "rating       0\n",
            "timestamp    0\n",
            "dtype: int64\n",
            "\n",
            "\n",
            "userId       0\n",
            "movieId      0\n",
            "tag          0\n",
            "timestamp    0\n",
            "dtype: int64\n",
            "\n",
            "\n",
            "movieId    0\n",
            "imdbId     0\n",
            "tmdbId     8\n",
            "dtype: int64\n"
          ]
        }
      ]
    },
    {
      "cell_type": "code",
      "metadata": {
        "id": "tz3LDefsW1Ou"
      },
      "source": [
        "#Karena kita tidak membutuhkan column Tahun, kita drop column tahun\n",
        "\n",
        "df_movie = df_movie.drop('year', axis = 1)"
      ],
      "execution_count": 30,
      "outputs": []
    },
    {
      "cell_type": "code",
      "metadata": {
        "id": "NV_8g8cMB1UL",
        "colab": {
          "base_uri": "https://localhost:8080/"
        },
        "outputId": "dfe54682-c8a1-4531-b858-497218802810"
      },
      "source": [
        "#data_preparation for cosine similarity\n",
        "\n",
        "from scipy.sparse import csr_matrix\n",
        "df_cosine = df_movie.drop(['movieId', 'genres'], axis = 1)\n",
        "df_cosine = df_cosine.set_index('title')\n",
        "df_cosine = csr_matrix(df_cosine.values)\n",
        "print(df_cosine)"
      ],
      "execution_count": 31,
      "outputs": [
        {
          "output_type": "stream",
          "name": "stdout",
          "text": [
            "  (0, 3)\t1\n",
            "  (0, 6)\t1\n",
            "  (1, 4)\t1\n",
            "  (1, 6)\t1\n",
            "  (1, 9)\t1\n",
            "  (2, 3)\t1\n",
            "  (3, 3)\t1\n",
            "  (3, 4)\t1\n",
            "  (3, 12)\t1\n",
            "  (4, 15)\t1\n",
            "  (5, 0)\t1\n",
            "  (5, 2)\t1\n",
            "  (5, 7)\t1\n",
            "  (5, 12)\t1\n",
            "  (6, 3)\t1\n",
            "  (6, 7)\t1\n",
            "  (6, 12)\t1\n",
            "  (7, 0)\t1\n",
            "  (7, 1)\t1\n",
            "  (7, 2)\t1\n",
            "  (7, 7)\t1\n",
            "  (8, 0)\t1\n",
            "  (8, 6)\t1\n",
            "  (8, 7)\t1\n",
            "  (8, 9)\t1\n",
            "  :\t:\n",
            "  (9726, 0)\t1\n",
            "  (9726, 4)\t1\n",
            "  (9726, 7)\t1\n",
            "  (9726, 12)\t1\n",
            "  (9727, 3)\t1\n",
            "  (9727, 5)\t1\n",
            "  (9727, 6)\t1\n",
            "  (9728, 5)\t1\n",
            "  (9728, 6)\t1\n",
            "  (9729, 12)\t1\n",
            "  (9730, 7)\t1\n",
            "  (9730, 9)\t1\n",
            "  (9730, 12)\t1\n",
            "  (9731, 19)\t1\n",
            "  (9732, 19)\t1\n",
            "  (9733, 6)\t1\n",
            "  (9733, 9)\t1\n",
            "  (9734, 19)\t1\n",
            "  (9735, 6)\t1\n",
            "  (9736, 19)\t1\n",
            "  (9737, 19)\t1\n",
            "  (9738, 19)\t1\n",
            "  (9739, 19)\t1\n",
            "  (9740, 19)\t1\n",
            "  (9741, 19)\t1\n"
          ]
        }
      ]
    },
    {
      "cell_type": "code",
      "metadata": {
        "id": "ZrSIkSkLB_Gy",
        "colab": {
          "base_uri": "https://localhost:8080/",
          "height": 453
        },
        "outputId": "f3652106-8c0c-45d6-93ab-af0609c1b084"
      },
      "source": [
        "#Data Preparation for deep learning\n",
        "\n",
        "#User_ID Prep\n",
        "user_id = data['userId'].unique().tolist()\n",
        "user_to_encoded = {x: i for i, x in enumerate(user_id)}\n",
        "encoded_to_user = {i: x for i, x in enumerate(user_id)}\n",
        "\n",
        "#Movie_ID Prep\n",
        "movie_id = data['movieId'].unique().tolist()\n",
        "movie_to_encoded = {x: i for i, x in enumerate(movie_id)}\n",
        "encoded_to_movie = {i: x for i, x in enumerate(movie_id)}\n",
        "\n",
        "#mapping\n",
        "data['user'] = data['userId'].map(user_to_encoded)\n",
        "data['movie'] = data['movieId'].map(movie_to_encoded)\n",
        "\n",
        "#visualize\n",
        "data"
      ],
      "execution_count": 32,
      "outputs": [
        {
          "output_type": "execute_result",
          "data": {
            "text/html": [
              "<div>\n",
              "<style scoped>\n",
              "    .dataframe tbody tr th:only-of-type {\n",
              "        vertical-align: middle;\n",
              "    }\n",
              "\n",
              "    .dataframe tbody tr th {\n",
              "        vertical-align: top;\n",
              "    }\n",
              "\n",
              "    .dataframe thead th {\n",
              "        text-align: right;\n",
              "    }\n",
              "</style>\n",
              "<table border=\"1\" class=\"dataframe\">\n",
              "  <thead>\n",
              "    <tr style=\"text-align: right;\">\n",
              "      <th></th>\n",
              "      <th>movieId</th>\n",
              "      <th>title</th>\n",
              "      <th>genres</th>\n",
              "      <th>year</th>\n",
              "      <th>userId</th>\n",
              "      <th>rating</th>\n",
              "      <th>timestamp</th>\n",
              "      <th>user</th>\n",
              "      <th>movie</th>\n",
              "    </tr>\n",
              "  </thead>\n",
              "  <tbody>\n",
              "    <tr>\n",
              "      <th>0</th>\n",
              "      <td>184997</td>\n",
              "      <td>Love, Simon (2018)</td>\n",
              "      <td>Comedy|Drama</td>\n",
              "      <td>2018.0</td>\n",
              "      <td>596</td>\n",
              "      <td>4.0</td>\n",
              "      <td>1535828629</td>\n",
              "      <td>0</td>\n",
              "      <td>0</td>\n",
              "    </tr>\n",
              "    <tr>\n",
              "      <th>1</th>\n",
              "      <td>185033</td>\n",
              "      <td>I Kill Giants (2018)</td>\n",
              "      <td>Drama|Fantasy|Thriller</td>\n",
              "      <td>2018.0</td>\n",
              "      <td>514</td>\n",
              "      <td>2.0</td>\n",
              "      <td>1533947134</td>\n",
              "      <td>1</td>\n",
              "      <td>1</td>\n",
              "    </tr>\n",
              "    <tr>\n",
              "      <th>2</th>\n",
              "      <td>184015</td>\n",
              "      <td>When We First Met (2018)</td>\n",
              "      <td>Comedy</td>\n",
              "      <td>2018.0</td>\n",
              "      <td>111</td>\n",
              "      <td>3.5</td>\n",
              "      <td>1518640587</td>\n",
              "      <td>2</td>\n",
              "      <td>2</td>\n",
              "    </tr>\n",
              "    <tr>\n",
              "      <th>3</th>\n",
              "      <td>184015</td>\n",
              "      <td>When We First Met (2018)</td>\n",
              "      <td>Comedy</td>\n",
              "      <td>2018.0</td>\n",
              "      <td>249</td>\n",
              "      <td>3.5</td>\n",
              "      <td>1518883048</td>\n",
              "      <td>3</td>\n",
              "      <td>2</td>\n",
              "    </tr>\n",
              "    <tr>\n",
              "      <th>4</th>\n",
              "      <td>188189</td>\n",
              "      <td>Sorry to Bother You (2018)</td>\n",
              "      <td>Comedy|Fantasy|Sci-Fi</td>\n",
              "      <td>2018.0</td>\n",
              "      <td>462</td>\n",
              "      <td>4.5</td>\n",
              "      <td>1533519140</td>\n",
              "      <td>4</td>\n",
              "      <td>3</td>\n",
              "    </tr>\n",
              "    <tr>\n",
              "      <th>...</th>\n",
              "      <td>...</td>\n",
              "      <td>...</td>\n",
              "      <td>...</td>\n",
              "      <td>...</td>\n",
              "      <td>...</td>\n",
              "      <td>...</td>\n",
              "      <td>...</td>\n",
              "      <td>...</td>\n",
              "      <td>...</td>\n",
              "    </tr>\n",
              "    <tr>\n",
              "      <th>100831</th>\n",
              "      <td>171495</td>\n",
              "      <td>Cosmos</td>\n",
              "      <td>(no genres listed)</td>\n",
              "      <td>NaN</td>\n",
              "      <td>599</td>\n",
              "      <td>4.0</td>\n",
              "      <td>1519116912</td>\n",
              "      <td>29</td>\n",
              "      <td>9719</td>\n",
              "    </tr>\n",
              "    <tr>\n",
              "      <th>100832</th>\n",
              "      <td>171631</td>\n",
              "      <td>Maria Bamford: Old Baby</td>\n",
              "      <td>(no genres listed)</td>\n",
              "      <td>NaN</td>\n",
              "      <td>111</td>\n",
              "      <td>1.0</td>\n",
              "      <td>1517440909</td>\n",
              "      <td>2</td>\n",
              "      <td>9720</td>\n",
              "    </tr>\n",
              "    <tr>\n",
              "      <th>100833</th>\n",
              "      <td>171749</td>\n",
              "      <td>Death Note: Desu nôto (2006–2007)</td>\n",
              "      <td>(no genres listed)</td>\n",
              "      <td>NaN</td>\n",
              "      <td>105</td>\n",
              "      <td>5.0</td>\n",
              "      <td>1526207365</td>\n",
              "      <td>46</td>\n",
              "      <td>9721</td>\n",
              "    </tr>\n",
              "    <tr>\n",
              "      <th>100834</th>\n",
              "      <td>171891</td>\n",
              "      <td>Generation Iron 2</td>\n",
              "      <td>(no genres listed)</td>\n",
              "      <td>NaN</td>\n",
              "      <td>111</td>\n",
              "      <td>3.5</td>\n",
              "      <td>1517440199</td>\n",
              "      <td>2</td>\n",
              "      <td>9722</td>\n",
              "    </tr>\n",
              "    <tr>\n",
              "      <th>100835</th>\n",
              "      <td>176601</td>\n",
              "      <td>Black Mirror</td>\n",
              "      <td>(no genres listed)</td>\n",
              "      <td>NaN</td>\n",
              "      <td>62</td>\n",
              "      <td>5.0</td>\n",
              "      <td>1525795252</td>\n",
              "      <td>5</td>\n",
              "      <td>9723</td>\n",
              "    </tr>\n",
              "  </tbody>\n",
              "</table>\n",
              "<p>100836 rows × 9 columns</p>\n",
              "</div>"
            ],
            "text/plain": [
              "        movieId                              title  ... user  movie\n",
              "0        184997                 Love, Simon (2018)  ...    0      0\n",
              "1        185033               I Kill Giants (2018)  ...    1      1\n",
              "2        184015           When We First Met (2018)  ...    2      2\n",
              "3        184015           When We First Met (2018)  ...    3      2\n",
              "4        188189         Sorry to Bother You (2018)  ...    4      3\n",
              "...         ...                                ...  ...  ...    ...\n",
              "100831   171495                             Cosmos  ...   29   9719\n",
              "100832   171631            Maria Bamford: Old Baby  ...    2   9720\n",
              "100833   171749  Death Note: Desu nôto (2006–2007)  ...   46   9721\n",
              "100834   171891                  Generation Iron 2  ...    2   9722\n",
              "100835   176601                       Black Mirror  ...    5   9723\n",
              "\n",
              "[100836 rows x 9 columns]"
            ]
          },
          "metadata": {},
          "execution_count": 32
        }
      ]
    },
    {
      "cell_type": "code",
      "metadata": {
        "id": "YSuB4zFCl9Xa",
        "colab": {
          "base_uri": "https://localhost:8080/"
        },
        "outputId": "8717d20c-eb71-4596-92c6-92c3402616bd"
      },
      "source": [
        "# Mendapatkan jumlah user\n",
        "num_users = len(user_to_encoded)\n",
        "print(num_users)\n",
        " \n",
        "# Mendapatkan jumlah movie\n",
        "num_movie = len(encoded_to_movie)\n",
        "print(num_movie)\n",
        " \n",
        "# Mengubah rating menjadi nilai float\n",
        "data['rating'] = data['rating'].values.astype(np.float32)\n",
        " \n",
        "# Nilai minimum rating\n",
        "min_rating = min(data['rating'])\n",
        " \n",
        "# Nilai maksimal rating\n",
        "max_rating = max(data['rating'])\n",
        " \n",
        "print('Number of User: {}, Number of movie: {}, Min Rating: {}, Max Rating: {}'.format(\n",
        "    num_users, num_movie, min_rating, max_rating\n",
        "))"
      ],
      "execution_count": 33,
      "outputs": [
        {
          "output_type": "stream",
          "name": "stdout",
          "text": [
            "610\n",
            "9724\n",
            "Number of User: 610, Number of movie: 9724, Min Rating: 0.5, Max Rating: 5.0\n"
          ]
        }
      ]
    },
    {
      "cell_type": "code",
      "metadata": {
        "id": "dq2D2a4CReej"
      },
      "source": [
        "# Kita gabungin lah si user dan movie\n",
        "x = data[['user', 'movie']].values\n",
        "\n",
        "\n",
        "#Variabel y untuk rating dari hasil\n",
        "y = data['rating'].apply(lambda x: (x - min_rating) / (max_rating - min_rating)).values\n",
        "\n",
        "#bagi data jadi 80%\n",
        "deep_learning = int(0.8 * data.shape[0])\n",
        "x_train, x_val, y_train, y_val = (\n",
        "    x[:deep_learning],\n",
        "    x[deep_learning:],\n",
        "    y[:deep_learning],\n",
        "    y[deep_learning:]\n",
        ")\n"
      ],
      "execution_count": 34,
      "outputs": []
    },
    {
      "cell_type": "markdown",
      "metadata": {
        "id": "A0iU9AjcU2ZZ"
      },
      "source": [
        "## Modeling dan Result"
      ]
    },
    {
      "cell_type": "markdown",
      "metadata": {
        "id": "J8S4fUgsVroI"
      },
      "source": [
        "### Modeling for Cosine Similarity"
      ]
    },
    {
      "cell_type": "code",
      "metadata": {
        "id": "3ClMkhoXVvB1",
        "colab": {
          "base_uri": "https://localhost:8080/",
          "height": 526
        },
        "outputId": "031170d6-8771-4457-f636-09edce88c41a"
      },
      "source": [
        "from sklearn.metrics.pairwise import cosine_similarity\n",
        "\n",
        "cosine_model = cosine_similarity(df_cosine)\n",
        "cosine_sim = pd.DataFrame(cosine_model, index = df_movie['title'], columns = df_movie['title'])\n",
        "\n",
        "print('Shape:', cosine_sim.shape)\n",
        "\n",
        "# Melihat similarity matrix pada setiap resto\n",
        "cosine_sim.sample(5, axis=1).sample(10, axis=0)"
      ],
      "execution_count": 35,
      "outputs": [
        {
          "output_type": "stream",
          "name": "stdout",
          "text": [
            "Shape: (9742, 9742)\n"
          ]
        },
        {
          "output_type": "execute_result",
          "data": {
            "text/html": [
              "<div>\n",
              "<style scoped>\n",
              "    .dataframe tbody tr th:only-of-type {\n",
              "        vertical-align: middle;\n",
              "    }\n",
              "\n",
              "    .dataframe tbody tr th {\n",
              "        vertical-align: top;\n",
              "    }\n",
              "\n",
              "    .dataframe thead th {\n",
              "        text-align: right;\n",
              "    }\n",
              "</style>\n",
              "<table border=\"1\" class=\"dataframe\">\n",
              "  <thead>\n",
              "    <tr style=\"text-align: right;\">\n",
              "      <th>title</th>\n",
              "      <th>Body (2015)</th>\n",
              "      <th>Sophie's Choice (1982)</th>\n",
              "      <th>My Life in Pink (Ma vie en rose) (1997)</th>\n",
              "      <th>Sherlock Holmes (2009)</th>\n",
              "      <th>Wedding Singer, The (1998)</th>\n",
              "    </tr>\n",
              "    <tr>\n",
              "      <th>title</th>\n",
              "      <th></th>\n",
              "      <th></th>\n",
              "      <th></th>\n",
              "      <th></th>\n",
              "      <th></th>\n",
              "    </tr>\n",
              "  </thead>\n",
              "  <tbody>\n",
              "    <tr>\n",
              "      <th>Picnic at Hanging Rock (1975)</th>\n",
              "      <td>0.408248</td>\n",
              "      <td>0.707107</td>\n",
              "      <td>0.500000</td>\n",
              "      <td>0.353553</td>\n",
              "      <td>0.000000</td>\n",
              "    </tr>\n",
              "    <tr>\n",
              "      <th>Last Days (2005)</th>\n",
              "      <td>0.577350</td>\n",
              "      <td>1.000000</td>\n",
              "      <td>0.707107</td>\n",
              "      <td>0.000000</td>\n",
              "      <td>0.000000</td>\n",
              "    </tr>\n",
              "    <tr>\n",
              "      <th>Gorgeous (Boh lee chun) (1999)</th>\n",
              "      <td>0.000000</td>\n",
              "      <td>0.000000</td>\n",
              "      <td>0.408248</td>\n",
              "      <td>0.288675</td>\n",
              "      <td>0.816497</td>\n",
              "    </tr>\n",
              "    <tr>\n",
              "      <th>Phantasm IV: Oblivion (1998)</th>\n",
              "      <td>0.577350</td>\n",
              "      <td>0.000000</td>\n",
              "      <td>0.000000</td>\n",
              "      <td>0.000000</td>\n",
              "      <td>0.000000</td>\n",
              "    </tr>\n",
              "    <tr>\n",
              "      <th>Jamaica Inn (1939)</th>\n",
              "      <td>0.577350</td>\n",
              "      <td>1.000000</td>\n",
              "      <td>0.707107</td>\n",
              "      <td>0.000000</td>\n",
              "      <td>0.000000</td>\n",
              "    </tr>\n",
              "    <tr>\n",
              "      <th>Changing Lanes (2002)</th>\n",
              "      <td>0.816497</td>\n",
              "      <td>0.707107</td>\n",
              "      <td>0.500000</td>\n",
              "      <td>0.353553</td>\n",
              "      <td>0.000000</td>\n",
              "    </tr>\n",
              "    <tr>\n",
              "      <th>Vagabond (Sans toit ni loi) (1985)</th>\n",
              "      <td>0.577350</td>\n",
              "      <td>1.000000</td>\n",
              "      <td>0.707107</td>\n",
              "      <td>0.000000</td>\n",
              "      <td>0.000000</td>\n",
              "    </tr>\n",
              "    <tr>\n",
              "      <th>The Forbidden Dance (1990)</th>\n",
              "      <td>0.000000</td>\n",
              "      <td>0.000000</td>\n",
              "      <td>0.000000</td>\n",
              "      <td>0.000000</td>\n",
              "      <td>0.000000</td>\n",
              "    </tr>\n",
              "    <tr>\n",
              "      <th>Shooting Fish (1997)</th>\n",
              "      <td>0.000000</td>\n",
              "      <td>0.000000</td>\n",
              "      <td>0.500000</td>\n",
              "      <td>0.000000</td>\n",
              "      <td>1.000000</td>\n",
              "    </tr>\n",
              "    <tr>\n",
              "      <th>Heartburn (1986)</th>\n",
              "      <td>0.408248</td>\n",
              "      <td>0.707107</td>\n",
              "      <td>1.000000</td>\n",
              "      <td>0.000000</td>\n",
              "      <td>0.500000</td>\n",
              "    </tr>\n",
              "  </tbody>\n",
              "</table>\n",
              "</div>"
            ],
            "text/plain": [
              "title                               Body (2015)  ...  Wedding Singer, The (1998)\n",
              "title                                            ...                            \n",
              "Picnic at Hanging Rock (1975)          0.408248  ...                    0.000000\n",
              "Last Days (2005)                       0.577350  ...                    0.000000\n",
              "Gorgeous (Boh lee chun) (1999)         0.000000  ...                    0.816497\n",
              "Phantasm IV: Oblivion (1998)           0.577350  ...                    0.000000\n",
              "Jamaica Inn (1939)                     0.577350  ...                    0.000000\n",
              "Changing Lanes (2002)                  0.816497  ...                    0.000000\n",
              "Vagabond (Sans toit ni loi) (1985)     0.577350  ...                    0.000000\n",
              "The Forbidden Dance (1990)             0.000000  ...                    0.000000\n",
              "Shooting Fish (1997)                   0.000000  ...                    1.000000\n",
              "Heartburn (1986)                       0.408248  ...                    0.500000\n",
              "\n",
              "[10 rows x 5 columns]"
            ]
          },
          "metadata": {},
          "execution_count": 35
        }
      ]
    },
    {
      "cell_type": "code",
      "metadata": {
        "id": "Mqri3doBWTIE"
      },
      "source": [
        "def resto_recommendations(nama_resto, similarity_data=cosine_sim, items = df_movie[['title', 'genres', 'Adventure', 'Animation', 'Children',\n",
        "       'Comedy', 'Fantasy', 'Romance', 'Drama', 'Action', 'Crime', 'Thriller',\n",
        "       'Horror', 'Mystery', 'Sci-Fi', 'War', 'Musical', 'Documentary', 'IMAX',\n",
        "       'Western', 'Film-Noir', '(no genres listed)']], k=5):\n",
        "\n",
        "    # Mengambil data dengan menggunakan argpartition untuk melakukan partisi secara tidak langsung sepanjang sumbu yang diberikan    \n",
        "    # Dataframe diubah menjadi numpy\n",
        "    # Range(start, stop, step)\n",
        "    index = similarity_data.loc[:,nama_resto].to_numpy().argpartition(\n",
        "        range(-1, -k, -1))\n",
        "    \n",
        "    # Mengambil data dengan similarity terbesar dari index yang ada\n",
        "    closest = similarity_data.columns[index[-1:-(k+2):-1]]\n",
        "    \n",
        "    # Drop nama_resto agar nama resto yang dicari tidak muncul dalam daftar rekomendasi\n",
        "    closest = closest.drop(nama_resto, errors='ignore')\n",
        " \n",
        "    return pd.DataFrame(closest).merge(items).head(k)"
      ],
      "execution_count": 36,
      "outputs": []
    },
    {
      "cell_type": "markdown",
      "metadata": {
        "id": "Gq-17dIbrdsJ"
      },
      "source": [
        "#### Testing and Evaluationg the Model"
      ]
    },
    {
      "cell_type": "code",
      "metadata": {
        "id": "JgAqbfVMdM8k",
        "colab": {
          "base_uri": "https://localhost:8080/",
          "height": 411
        },
        "outputId": "8d7253e5-40d1-40c2-ea8d-b1d946f81a57"
      },
      "source": [
        "movie = resto_recommendations('The Darkest Minds (2018)')\n",
        "movie"
      ],
      "execution_count": 37,
      "outputs": [
        {
          "output_type": "execute_result",
          "data": {
            "text/html": [
              "<div>\n",
              "<style scoped>\n",
              "    .dataframe tbody tr th:only-of-type {\n",
              "        vertical-align: middle;\n",
              "    }\n",
              "\n",
              "    .dataframe tbody tr th {\n",
              "        vertical-align: top;\n",
              "    }\n",
              "\n",
              "    .dataframe thead th {\n",
              "        text-align: right;\n",
              "    }\n",
              "</style>\n",
              "<table border=\"1\" class=\"dataframe\">\n",
              "  <thead>\n",
              "    <tr style=\"text-align: right;\">\n",
              "      <th></th>\n",
              "      <th>title</th>\n",
              "      <th>genres</th>\n",
              "      <th>Adventure</th>\n",
              "      <th>Animation</th>\n",
              "      <th>Children</th>\n",
              "      <th>Comedy</th>\n",
              "      <th>Fantasy</th>\n",
              "      <th>Romance</th>\n",
              "      <th>Drama</th>\n",
              "      <th>Action</th>\n",
              "      <th>Crime</th>\n",
              "      <th>Thriller</th>\n",
              "      <th>Horror</th>\n",
              "      <th>Mystery</th>\n",
              "      <th>Sci-Fi</th>\n",
              "      <th>War</th>\n",
              "      <th>Musical</th>\n",
              "      <th>Documentary</th>\n",
              "      <th>IMAX</th>\n",
              "      <th>Western</th>\n",
              "      <th>Film-Noir</th>\n",
              "      <th>(no genres listed)</th>\n",
              "    </tr>\n",
              "  </thead>\n",
              "  <tbody>\n",
              "    <tr>\n",
              "      <th>0</th>\n",
              "      <td>ARQ (2016)</td>\n",
              "      <td>Sci-Fi|Thriller</td>\n",
              "      <td>0</td>\n",
              "      <td>0</td>\n",
              "      <td>0</td>\n",
              "      <td>0</td>\n",
              "      <td>0</td>\n",
              "      <td>0</td>\n",
              "      <td>0</td>\n",
              "      <td>0</td>\n",
              "      <td>0</td>\n",
              "      <td>1</td>\n",
              "      <td>0</td>\n",
              "      <td>0</td>\n",
              "      <td>1</td>\n",
              "      <td>0</td>\n",
              "      <td>0</td>\n",
              "      <td>0</td>\n",
              "      <td>0</td>\n",
              "      <td>0</td>\n",
              "      <td>0</td>\n",
              "      <td>0</td>\n",
              "    </tr>\n",
              "    <tr>\n",
              "      <th>1</th>\n",
              "      <td>Project Almanac (2015)</td>\n",
              "      <td>Sci-Fi|Thriller</td>\n",
              "      <td>0</td>\n",
              "      <td>0</td>\n",
              "      <td>0</td>\n",
              "      <td>0</td>\n",
              "      <td>0</td>\n",
              "      <td>0</td>\n",
              "      <td>0</td>\n",
              "      <td>0</td>\n",
              "      <td>0</td>\n",
              "      <td>1</td>\n",
              "      <td>0</td>\n",
              "      <td>0</td>\n",
              "      <td>1</td>\n",
              "      <td>0</td>\n",
              "      <td>0</td>\n",
              "      <td>0</td>\n",
              "      <td>0</td>\n",
              "      <td>0</td>\n",
              "      <td>0</td>\n",
              "      <td>0</td>\n",
              "    </tr>\n",
              "    <tr>\n",
              "      <th>2</th>\n",
              "      <td>Signal, The (2014)</td>\n",
              "      <td>Sci-Fi|Thriller</td>\n",
              "      <td>0</td>\n",
              "      <td>0</td>\n",
              "      <td>0</td>\n",
              "      <td>0</td>\n",
              "      <td>0</td>\n",
              "      <td>0</td>\n",
              "      <td>0</td>\n",
              "      <td>0</td>\n",
              "      <td>0</td>\n",
              "      <td>1</td>\n",
              "      <td>0</td>\n",
              "      <td>0</td>\n",
              "      <td>1</td>\n",
              "      <td>0</td>\n",
              "      <td>0</td>\n",
              "      <td>0</td>\n",
              "      <td>0</td>\n",
              "      <td>0</td>\n",
              "      <td>0</td>\n",
              "      <td>0</td>\n",
              "    </tr>\n",
              "    <tr>\n",
              "      <th>3</th>\n",
              "      <td>Incredible Shrinking Man, The (1957)</td>\n",
              "      <td>Sci-Fi|Thriller</td>\n",
              "      <td>0</td>\n",
              "      <td>0</td>\n",
              "      <td>0</td>\n",
              "      <td>0</td>\n",
              "      <td>0</td>\n",
              "      <td>0</td>\n",
              "      <td>0</td>\n",
              "      <td>0</td>\n",
              "      <td>0</td>\n",
              "      <td>1</td>\n",
              "      <td>0</td>\n",
              "      <td>0</td>\n",
              "      <td>1</td>\n",
              "      <td>0</td>\n",
              "      <td>0</td>\n",
              "      <td>0</td>\n",
              "      <td>0</td>\n",
              "      <td>0</td>\n",
              "      <td>0</td>\n",
              "      <td>0</td>\n",
              "    </tr>\n",
              "    <tr>\n",
              "      <th>4</th>\n",
              "      <td>Sphere (1998)</td>\n",
              "      <td>Sci-Fi|Thriller</td>\n",
              "      <td>0</td>\n",
              "      <td>0</td>\n",
              "      <td>0</td>\n",
              "      <td>0</td>\n",
              "      <td>0</td>\n",
              "      <td>0</td>\n",
              "      <td>0</td>\n",
              "      <td>0</td>\n",
              "      <td>0</td>\n",
              "      <td>1</td>\n",
              "      <td>0</td>\n",
              "      <td>0</td>\n",
              "      <td>1</td>\n",
              "      <td>0</td>\n",
              "      <td>0</td>\n",
              "      <td>0</td>\n",
              "      <td>0</td>\n",
              "      <td>0</td>\n",
              "      <td>0</td>\n",
              "      <td>0</td>\n",
              "    </tr>\n",
              "  </tbody>\n",
              "</table>\n",
              "</div>"
            ],
            "text/plain": [
              "                                  title  ... (no genres listed)\n",
              "0                            ARQ (2016)  ...                  0\n",
              "1                Project Almanac (2015)  ...                  0\n",
              "2                    Signal, The (2014)  ...                  0\n",
              "3  Incredible Shrinking Man, The (1957)  ...                  0\n",
              "4                         Sphere (1998)  ...                  0\n",
              "\n",
              "[5 rows x 22 columns]"
            ]
          },
          "metadata": {},
          "execution_count": 37
        }
      ]
    },
    {
      "cell_type": "code",
      "metadata": {
        "id": "zgTDa4a75SS1",
        "colab": {
          "base_uri": "https://localhost:8080/"
        },
        "outputId": "cd062cf8-a423-494d-d5c9-4ae7d5632d08"
      },
      "source": [
        "retro = df_movie[df_movie['title'] == 'The Darkest Minds (2018)']\n",
        "get_genre = [i for i in genres if retro[i].values == 1]\n",
        "df_movie[df_movie['title'] == 'The Darkest Minds (2018)'][\"Sci-Fi\"].values[0]"
      ],
      "execution_count": 38,
      "outputs": [
        {
          "output_type": "execute_result",
          "data": {
            "text/plain": [
              "1"
            ]
          },
          "metadata": {},
          "execution_count": 38
        }
      ]
    },
    {
      "cell_type": "code",
      "metadata": {
        "id": "_TNx_eFC5ocm"
      },
      "source": [
        "def accurate (name ):\n",
        "  retro = df_movie[df_movie['title'] == name]\n",
        "  get_genre = [i for i in genres if retro[i].values == 1]\n",
        "  sum = float(0)\n",
        "  for j in get_genre :\n",
        "    print(\"The accuracy of \"+ j+\" : \" + str((movie[j].sum()/len(movie[j]))*100) + \"%\")"
      ],
      "execution_count": 39,
      "outputs": []
    },
    {
      "cell_type": "code",
      "metadata": {
        "id": "_XILvR_y5uCN",
        "colab": {
          "base_uri": "https://localhost:8080/"
        },
        "outputId": "9e8989ce-929e-4995-c97e-6fe5166c5164"
      },
      "source": [
        "accurate('The Darkest Minds (2018)')"
      ],
      "execution_count": 40,
      "outputs": [
        {
          "output_type": "stream",
          "name": "stdout",
          "text": [
            "The accuracy of Thriller : 100.0%\n",
            "The accuracy of Sci-Fi : 100.0%\n"
          ]
        }
      ]
    },
    {
      "cell_type": "markdown",
      "metadata": {
        "id": "89hIS20vdTMx"
      },
      "source": [
        "### Model Training for Deep Learning"
      ]
    },
    {
      "cell_type": "code",
      "metadata": {
        "id": "gOd4VhOoh344"
      },
      "source": [
        "import tensorflow as tf\n",
        "from tensorflow import keras\n",
        "from tensorflow.keras import layers\n",
        "\n",
        "\n",
        "\n",
        "class RecommenderNet(tf.keras.Model):\n",
        "\n",
        "  # Insialisasi fungsi\n",
        "  def __init__(self, num_users, num_movie, embedding_size, **kwargs):\n",
        "    super(RecommenderNet, self).__init__(**kwargs)\n",
        "    self.num_users = num_users\n",
        "    self.num_movie = num_movie\n",
        "    self.embedding_size = embedding_size\n",
        "    self.user_embedding = layers.Embedding( # layer embedding user\n",
        "        num_users,\n",
        "        embedding_size,\n",
        "        embeddings_initializer = 'he_normal',\n",
        "        embeddings_regularizer = keras.regularizers.l2(1e-6)\n",
        "    )\n",
        "    self.user_bias = layers.Embedding(num_users, 1) # layer embedding user bias\n",
        "    self.movie_embedding = layers.Embedding( # layer embeddings resto\n",
        "        num_movie,\n",
        "        embedding_size,\n",
        "        embeddings_initializer = 'he_normal',\n",
        "        embeddings_regularizer = keras.regularizers.l2(1e-6)\n",
        "    )\n",
        "    self.movie_bias = layers.Embedding(num_movie, 1) # layer embedding resto bias\n",
        " \n",
        "  def call(self, inputs):\n",
        "    user_vector = self.user_embedding(inputs[:,0]) # memanggil layer embedding 1\n",
        "    user_bias = self.user_bias(inputs[:, 0]) # memanggil layer embedding 2\n",
        "    movie_vector = self.movie_embedding(inputs[:, 1]) # memanggil layer embedding 3\n",
        "    movie_bias = self.movie_bias(inputs[:, 1]) # memanggil layer embedding 4\n",
        " \n",
        "    dot_user_resto = tf.tensordot(user_vector, movie_vector, 2) \n",
        " \n",
        "    x = dot_user_resto + user_bias + movie_bias\n",
        "    \n",
        "    return tf.nn.sigmoid(x) # activation sigmoid"
      ],
      "execution_count": 41,
      "outputs": []
    },
    {
      "cell_type": "code",
      "metadata": {
        "id": "q16dX4oMnRHL",
        "colab": {
          "base_uri": "https://localhost:8080/"
        },
        "outputId": "90dd05f3-b9b4-4f5b-8956-971e9e6aed98"
      },
      "source": [
        "model = RecommenderNet(num_users, num_movie, 50) # inisialisasi model\n",
        "\n",
        "model.compile(\n",
        "    loss = tf.keras.losses.BinaryCrossentropy(),\n",
        "    optimizer = keras.optimizers.Adam(learning_rate=0.001),\n",
        "    metrics=[tf.keras.metrics.RootMeanSquaredError()]\n",
        ")\n",
        "\n",
        "history = model.fit(\n",
        "    x = x_train,\n",
        "    y = y_train,\n",
        "    batch_size = 8,\n",
        "    epochs = 25,\n",
        "    validation_data = (x_val, y_val),\n",
        ")\n"
      ],
      "execution_count": 42,
      "outputs": [
        {
          "output_type": "stream",
          "name": "stdout",
          "text": [
            "Epoch 1/25\n",
            "10084/10084 [==============================] - 67s 6ms/step - loss: 0.6299 - root_mean_squared_error: 0.2189 - val_loss: 0.6684 - val_root_mean_squared_error: 0.2840\n",
            "Epoch 2/25\n",
            "10084/10084 [==============================] - 65s 6ms/step - loss: 0.6102 - root_mean_squared_error: 0.1971 - val_loss: 0.6638 - val_root_mean_squared_error: 0.2799\n",
            "Epoch 3/25\n",
            "10084/10084 [==============================] - 63s 6ms/step - loss: 0.6059 - root_mean_squared_error: 0.1919 - val_loss: 0.6578 - val_root_mean_squared_error: 0.2746\n",
            "Epoch 4/25\n",
            "10084/10084 [==============================] - 64s 6ms/step - loss: 0.6037 - root_mean_squared_error: 0.1892 - val_loss: 0.6524 - val_root_mean_squared_error: 0.2699\n",
            "Epoch 5/25\n",
            "10084/10084 [==============================] - 64s 6ms/step - loss: 0.6021 - root_mean_squared_error: 0.1873 - val_loss: 0.6475 - val_root_mean_squared_error: 0.2655\n",
            "Epoch 6/25\n",
            "10084/10084 [==============================] - 64s 6ms/step - loss: 0.6012 - root_mean_squared_error: 0.1862 - val_loss: 0.6444 - val_root_mean_squared_error: 0.2626\n",
            "Epoch 7/25\n",
            "10084/10084 [==============================] - 63s 6ms/step - loss: 0.6000 - root_mean_squared_error: 0.1846 - val_loss: 0.6407 - val_root_mean_squared_error: 0.2592\n",
            "Epoch 8/25\n",
            "10084/10084 [==============================] - 63s 6ms/step - loss: 0.5997 - root_mean_squared_error: 0.1842 - val_loss: 0.6378 - val_root_mean_squared_error: 0.2566\n",
            "Epoch 9/25\n",
            "10084/10084 [==============================] - 62s 6ms/step - loss: 0.5990 - root_mean_squared_error: 0.1832 - val_loss: 0.6360 - val_root_mean_squared_error: 0.2548\n",
            "Epoch 10/25\n",
            "10084/10084 [==============================] - 62s 6ms/step - loss: 0.5986 - root_mean_squared_error: 0.1828 - val_loss: 0.6338 - val_root_mean_squared_error: 0.2528\n",
            "Epoch 11/25\n",
            "10084/10084 [==============================] - 65s 6ms/step - loss: 0.5981 - root_mean_squared_error: 0.1823 - val_loss: 0.6338 - val_root_mean_squared_error: 0.2528\n",
            "Epoch 12/25\n",
            "10084/10084 [==============================] - 65s 6ms/step - loss: 0.5980 - root_mean_squared_error: 0.1821 - val_loss: 0.6325 - val_root_mean_squared_error: 0.2516\n",
            "Epoch 13/25\n",
            "10084/10084 [==============================] - 65s 6ms/step - loss: 0.5975 - root_mean_squared_error: 0.1815 - val_loss: 0.6322 - val_root_mean_squared_error: 0.2513\n",
            "Epoch 14/25\n",
            "10084/10084 [==============================] - 67s 7ms/step - loss: 0.5975 - root_mean_squared_error: 0.1815 - val_loss: 0.6316 - val_root_mean_squared_error: 0.2507\n",
            "Epoch 15/25\n",
            "10084/10084 [==============================] - 62s 6ms/step - loss: 0.5970 - root_mean_squared_error: 0.1809 - val_loss: 0.6317 - val_root_mean_squared_error: 0.2508\n",
            "Epoch 16/25\n",
            "10084/10084 [==============================] - 63s 6ms/step - loss: 0.5969 - root_mean_squared_error: 0.1808 - val_loss: 0.6308 - val_root_mean_squared_error: 0.2499\n",
            "Epoch 17/25\n",
            "10084/10084 [==============================] - 64s 6ms/step - loss: 0.5969 - root_mean_squared_error: 0.1808 - val_loss: 0.6313 - val_root_mean_squared_error: 0.2503\n",
            "Epoch 18/25\n",
            "10084/10084 [==============================] - 62s 6ms/step - loss: 0.5967 - root_mean_squared_error: 0.1805 - val_loss: 0.6313 - val_root_mean_squared_error: 0.2503\n",
            "Epoch 19/25\n",
            "10084/10084 [==============================] - 63s 6ms/step - loss: 0.5965 - root_mean_squared_error: 0.1803 - val_loss: 0.6317 - val_root_mean_squared_error: 0.2506\n",
            "Epoch 20/25\n",
            "10084/10084 [==============================] - 61s 6ms/step - loss: 0.5963 - root_mean_squared_error: 0.1801 - val_loss: 0.6310 - val_root_mean_squared_error: 0.2500\n",
            "Epoch 21/25\n",
            "10084/10084 [==============================] - 62s 6ms/step - loss: 0.5963 - root_mean_squared_error: 0.1800 - val_loss: 0.6312 - val_root_mean_squared_error: 0.2501\n",
            "Epoch 22/25\n",
            "10084/10084 [==============================] - 62s 6ms/step - loss: 0.5963 - root_mean_squared_error: 0.1800 - val_loss: 0.6316 - val_root_mean_squared_error: 0.2505\n",
            "Epoch 23/25\n",
            "10084/10084 [==============================] - 60s 6ms/step - loss: 0.5960 - root_mean_squared_error: 0.1796 - val_loss: 0.6310 - val_root_mean_squared_error: 0.2499\n",
            "Epoch 24/25\n",
            "10084/10084 [==============================] - 64s 6ms/step - loss: 0.5960 - root_mean_squared_error: 0.1797 - val_loss: 0.6323 - val_root_mean_squared_error: 0.2511\n",
            "Epoch 25/25\n",
            "10084/10084 [==============================] - 63s 6ms/step - loss: 0.5963 - root_mean_squared_error: 0.1799 - val_loss: 0.6321 - val_root_mean_squared_error: 0.2509\n"
          ]
        }
      ]
    },
    {
      "cell_type": "markdown",
      "metadata": {
        "id": "-hfV_zV0rs_7"
      },
      "source": [
        "#### Testing and Evaluation the Model"
      ]
    },
    {
      "cell_type": "code",
      "metadata": {
        "id": "qh5dWgl44MoV",
        "colab": {
          "base_uri": "https://localhost:8080/",
          "height": 295
        },
        "outputId": "20fb0830-ed6f-45ee-a742-0c5397e14b75"
      },
      "source": [
        "plt.plot(history.history['root_mean_squared_error'])\n",
        "plt.plot(history.history['val_root_mean_squared_error'])\n",
        "plt.title('model_metrics')\n",
        "plt.ylabel('root_mean_squared_error')\n",
        "plt.xlabel('epoch')\n",
        "plt.legend(['train', 'test'], loc='upper left')\n",
        "plt.show()"
      ],
      "execution_count": 43,
      "outputs": [
        {
          "output_type": "display_data",
          "data": {
            "image/png": "[encoded data removed]",
            "text/plain": [
              "<Figure size 432x288 with 1 Axes>"
            ]
          },
          "metadata": {
            "needs_background": "light"
          }
        }
      ]
    },
    {
      "cell_type": "code",
      "metadata": {
        "id": "O3gYvvLV4a_l"
      },
      "source": [
        "movie_df = df_movie\n",
        "\n",
        " \n",
        "# Mengambil sample user\n",
        "user_id = data.userId.sample(1).iloc[0]\n",
        "movie_visited_by_user = data[data.userId == user_id]\n",
        " \n",
        "# Operator bitwise (~), bisa diketahui di sini https://docs.python.org/3/reference/expressions.html \n",
        "movie_not_visited = movie_df[~movie_df['movieId'].isin(movie_visited_by_user.movieId.values)]['movieId'] \n",
        "movie_not_visited = list(\n",
        "    set(movie_not_visited)\n",
        "    .intersection(set(movie_to_encoded.keys()))\n",
        ")\n",
        " \n",
        "movie_not_visited = [[movie_to_encoded.get(x)] for x in movie_not_visited]\n",
        "user_encoder = user_to_encoded.get(user_id)\n",
        "user_movie_array = np.hstack(\n",
        "    ([[user_encoder]] * len(movie_not_visited), movie_not_visited)\n",
        ")"
      ],
      "execution_count": 44,
      "outputs": []
    },
    {
      "cell_type": "code",
      "metadata": {
        "id": "IDwI28JQfsbp",
        "colab": {
          "base_uri": "https://localhost:8080/"
        },
        "outputId": "2eb1d75f-4d50-4577-db8a-47bf2e0b1622"
      },
      "source": [
        "ratings = model.predict(user_movie_array).flatten()\n",
        " \n",
        "top_ratings_indices = ratings.argsort()[-10:][::-1]\n",
        "recommended_movie_ids = [\n",
        "    encoded_to_movie.get(movie_not_visited[x][0]) for x in top_ratings_indices\n",
        "]\n",
        " \n",
        "print('Showing recommendations for users: {}'.format(user_id))\n",
        "print('===' * 9)\n",
        " \n",
        "top_movie_recommend = (\n",
        "    movie_visited_by_user.sort_values(\n",
        "        by = 'rating',\n",
        "        ascending=False\n",
        "    )\n",
        "    .head(5)\n",
        "    .movieId.values\n",
        ")\n",
        " \n",
        "movie_df_rows = df_movie[df_movie['movieId'].isin(top_movie_recommend)]\n",
        "for row in movie_df_rows.itertuples():\n",
        "    print(row.title, ':', row.genres)\n",
        " \n",
        "print('----' * 8)\n",
        "print('Top 10 Moive')\n",
        "print('----' * 8)\n",
        " \n",
        "recommended_movie = df_movie[df_movie['movieId'].isin(recommended_movie_ids)]\n",
        "for row in recommended_movie.itertuples():\n",
        "    print(row.title, ':', row.genres)"
      ],
      "execution_count": 45,
      "outputs": [
        {
          "output_type": "stream",
          "name": "stdout",
          "text": [
            "Showing recommendations for users: 387\n",
            "===========================\n",
            "Old Boy (2003) : Mystery|Thriller\n",
            "Apocalypse Now (1979) : Action|Drama|War\n",
            "2001: A Space Odyssey (1968) : Adventure|Drama|Sci-Fi\n",
            "Dr. Strangelove or: How I Learned to Stop Worrying and Love the Bomb (1964) : Comedy|War\n",
            "Vertigo (1958) : Drama|Mystery|Romance|Thriller\n",
            "--------------------------------\n",
            "Top 10 Moive\n",
            "--------------------------------\n",
            "Three Billboards Outside Ebbing, Missouri (2017) : Crime|Drama\n",
            "What We Do in the Shadows (2014) : Comedy|Horror\n",
            "Tekkonkinkreet (Tekkon kinkurîto) (2006) : Action|Adventure|Animation|Crime|Fantasy\n",
            "Sophie Scholl: The Final Days (Sophie Scholl - Die letzten Tage) (2005) : Drama|War\n",
            "Memories of Murder (Salinui chueok) (2003) : Crime|Drama|Mystery|Thriller\n",
            "Band of Brothers (2001) : Action|Drama|War\n",
            "Neon Genesis Evangelion: The End of Evangelion (Shin seiki Evangelion Gekijô-ban: Air/Magokoro wo, kimi ni) (1997) : Action|Animation|Drama|Fantasy|Sci-Fi\n",
            "Secrets & Lies (1996) : Drama\n",
            "Whole Wide World, The (1996) : Drama\n",
            "Hamlet (1996) : Crime|Drama|Romance\n"
          ]
        }
      ]
    }
  ]
}